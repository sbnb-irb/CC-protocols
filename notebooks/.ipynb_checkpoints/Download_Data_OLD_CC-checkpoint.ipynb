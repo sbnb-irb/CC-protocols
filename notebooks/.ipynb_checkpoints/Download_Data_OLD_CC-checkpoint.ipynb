{
 "cells": [
  {
   "cell_type": "code",
   "execution_count": 1,
   "id": "0a8d35df-42a2-44dc-ae4e-a23d07fce2e7",
   "metadata": {},
   "outputs": [],
   "source": [
    "# from chemicalchecker import ChemicalChecker\n",
    "# ChemicalChecker.set_verbosity('DEBUG') # CRITICAL, ERROR, WARN, INFO or DEBUG\n",
    "import shutil\n",
    "import tqdm\n",
    "import h5py\n",
    "import os"
   ]
  },
  {
   "cell_type": "code",
   "execution_count": 2,
   "id": "ac691ac9-8ddc-4ca5-b1bd-7f3b8c2b5409",
   "metadata": {},
   "outputs": [
    {
     "name": "stderr",
     "output_type": "stream",
     "text": [
      "100%|████████████████████████████████████████████████████████████████████████████████████████████████████| 25/25 [14:59<00:00, 36.00s/it]\n",
      "100%|████████████████████████████████████████████████████████████████████████████████████████████████████| 25/25 [28:42<00:00, 68.89s/it]\n",
      "100%|████████████████████████████████████████████████████████████████████████████████████████████████████| 25/25 [01:42<00:00,  4.09s/it]\n",
      "100%|████████████████████████████████████████████████████████████████████████████████████████████████████| 25/25 [05:37<00:00, 13.49s/it]\n"
     ]
    }
   ],
   "source": [
    "path_to_data = \"/aloy/home/acomajuncosa/CC_data_OLD\"\n",
    "path_to_old_CC = \"/aloy/web_checker/package_cc/2021_07\"\n",
    "spaces = [i + j for i in \"ABCDE\" for j in \"12345\"]\n",
    "for sign_type in ['sign0', 'sign1', 'sign2', 'sign3']:\n",
    "    # Create dir\n",
    "    os.makedirs(os.path.join(path_to_data, sign_type), exist_ok=True)\n",
    "    # For every space\n",
    "    for space in tqdm.tqdm(spaces):\n",
    "        # Copy signatures\n",
    "        shutil.copyfile(os.path.join(path_to_old_CC, \"full\", space[0], space, space + \".001\", sign_type, sign_type + \".h5\"),\n",
    "                        os.path.join(path_to_data, sign_type, space + \"_\" + sign_type + \".h5\"))"
   ]
  },
  {
   "cell_type": "code",
   "execution_count": null,
   "id": "a39204c4-6fc9-4784-832c-c6fc5259d619",
   "metadata": {},
   "outputs": [],
   "source": []
  },
  {
   "cell_type": "code",
   "execution_count": null,
   "id": "584277fe-6344-461b-8cb7-55c400016f74",
   "metadata": {},
   "outputs": [],
   "source": []
  }
 ],
 "metadata": {
  "kernelspec": {
   "display_name": "Python 3 (ipykernel)",
   "language": "python",
   "name": "python3"
  },
  "language_info": {
   "codemirror_mode": {
    "name": "ipython",
    "version": 3
   },
   "file_extension": ".py",
   "mimetype": "text/x-python",
   "name": "python",
   "nbconvert_exporter": "python",
   "pygments_lexer": "ipython3",
   "version": "3.10.14"
  }
 },
 "nbformat": 4,
 "nbformat_minor": 5
}
