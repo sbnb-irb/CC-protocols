{
 "cells": [
  {
   "cell_type": "code",
   "execution_count": 1,
   "id": "0a8d35df-42a2-44dc-ae4e-a23d07fce2e7",
   "metadata": {},
   "outputs": [
    {
     "name": "stderr",
     "output_type": "stream",
     "text": [
      "2024-10-21 09:18:59,548 chemicalchecker.core.chemcheck.ChemicalChecker [DEBUG   ] Logging level DEBUG for logger 'chemicalchecker'.\n"
     ]
    }
   ],
   "source": [
    "from chemicalchecker import ChemicalChecker\n",
    "import os\n",
    "ChemicalChecker.set_verbosity('DEBUG') # CRITICAL, ERROR, WARN, INFO or DEBUG"
   ]
  },
  {
   "cell_type": "code",
   "execution_count": 2,
   "id": "bbeb528b-b936-4b1b-ac6e-a956edd98b8a",
   "metadata": {},
   "outputs": [
    {
     "name": "stderr",
     "output_type": "stream",
     "text": [
      "2024-10-21 09:18:59,554 chemicalchecker.core.chemcheck.ChemicalChecker [DEBUG   ] ChemicalChecker with root: /aloy/home/acomajuncosa/Protocols/DUMMY_CC\n"
     ]
    }
   ],
   "source": [
    "local_cc_dir = '../DUMMY_CC'\n",
    "cc_local = ChemicalChecker(local_cc_dir, dbconnect=False)"
   ]
  },
  {
   "cell_type": "code",
   "execution_count": 3,
   "id": "4e78e0f4-8a66-4009-a850-80a6dfddc610",
   "metadata": {},
   "outputs": [],
   "source": [
    "# CC type 0 signatures (sign0) are needed to generate the complete diagnostics plots of new (type 0, I, II and III) signatures\n",
    "# CC type I signatures (sign1) are needed to generate the complete diagnotics plots of new type II signatures\n",
    "# CC type II signatures (sign2) are needed to generate new type III signatures and the complete diagnostics plots of new type II signatures\n",
    "# CC type III signatures (sign3) are needed to generate the complete diagnostics plots of new type III signatures"
   ]
  },
  {
   "cell_type": "code",
   "execution_count": 5,
   "id": "ac691ac9-8ddc-4ca5-b1bd-7f3b8c2b5409",
   "metadata": {},
   "outputs": [],
   "source": [
    "# path_to_data = \"/aloy/home/acomajuncosa/CC_data_NEW\"\n",
    "\n",
    "# # Download [ONLY ONCE]\n",
    "# cc_local.download_all_sign_links(path_to_data)"
   ]
  },
  {
   "cell_type": "code",
   "execution_count": null,
   "id": "93223a94-ebb4-45bb-b042-9533c56b8e5b",
   "metadata": {},
   "outputs": [],
   "source": []
  }
 ],
 "metadata": {
  "kernelspec": {
   "display_name": "Python 3 (ipykernel)",
   "language": "python",
   "name": "python3"
  },
  "language_info": {
   "codemirror_mode": {
    "name": "ipython",
    "version": 3
   },
   "file_extension": ".py",
   "mimetype": "text/x-python",
   "name": "python",
   "nbconvert_exporter": "python",
   "pygments_lexer": "ipython3",
   "version": "3.10.14"
  }
 },
 "nbformat": 4,
 "nbformat_minor": 5
}
