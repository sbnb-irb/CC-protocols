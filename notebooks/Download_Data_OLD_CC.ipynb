{
 "cells": [
  {
   "cell_type": "code",
   "execution_count": 1,
   "id": "0a8d35df-42a2-44dc-ae4e-a23d07fce2e7",
   "metadata": {},
   "outputs": [],
   "source": [
    "# from chemicalchecker import ChemicalChecker\n",
    "# ChemicalChecker.set_verbosity('DEBUG') # CRITICAL, ERROR, WARN, INFO or DEBUG\n",
    "import shutil\n",
    "import tqdm\n",
    "import h5py\n",
    "import os"
   ]
  },
  {
   "cell_type": "code",
   "execution_count": 2,
   "id": "ac691ac9-8ddc-4ca5-b1bd-7f3b8c2b5409",
   "metadata": {},
   "outputs": [
    {
     "name": "stderr",
     "output_type": "stream",
     "text": [
      "100%|████████████████████████████████████████████████████████████████████████████████████████████████████| 25/25 [14:59<00:00, 36.00s/it]\n",
      "100%|████████████████████████████████████████████████████████████████████████████████████████████████████| 25/25 [28:42<00:00, 68.89s/it]\n",
      "100%|████████████████████████████████████████████████████████████████████████████████████████████████████| 25/25 [01:42<00:00,  4.09s/it]\n",
      "100%|████████████████████████████████████████████████████████████████████████████████████████████████████| 25/25 [05:37<00:00, 13.49s/it]\n"
     ]
    }
   ],
   "source": [
    "path_to_data = \"/aloy/home/acomajuncosa/CC_data_OLD\"\n",
    "path_to_old_CC = \"/aloy/web_checker/package_cc/2021_07\"\n",
    "spaces = [i + j for i in \"ABCDE\" for j in \"12345\"]\n",
    "for sign_type in ['sign0', 'sign1', 'sign2', 'sign3']:\n",
    "    # Create dir\n",
    "    os.makedirs(os.path.join(path_to_data, sign_type), exist_ok=True)\n",
    "    # For every space\n",
    "    for space in tqdm.tqdm(spaces):\n",
    "        # Copy signatures\n",
    "        shutil.copyfile(os.path.join(path_to_old_CC, \"full\", space[0], space, space + \".001\", sign_type, sign_type + \".h5\"),\n",
    "                        os.path.join(path_to_data, sign_type, space + \"_\" + sign_type + \".h5\"))"
   ]
  },
  {
   "cell_type": "code",
   "execution_count": null,
   "id": "a39204c4-6fc9-4784-832c-c6fc5259d619",
   "metadata": {},
   "outputs": [],
   "source": []
  },
  {
   "cell_type": "code",
   "execution_count": null,
   "id": "584277fe-6344-461b-8cb7-55c400016f74",
   "metadata": {},
   "outputs": [],
   "source": []
  },
  {
   "cell_type": "code",
   "execution_count": 28,
   "id": "b3695cad-d88d-4428-9aab-d46913a75551",
   "metadata": {},
   "outputs": [
    {
     "name": "stdout",
     "output_type": "stream",
     "text": [
      "['V', 'agg_method', 'date', 'features', 'input_type', 'keys', 'keys_raw', 'name']\n"
     ]
    }
   ],
   "source": [
    "with h5py.File(\"/aloy/home/acomajuncosa/CC_data_OLD/sign1/B3_sign1.h5\") as out:\n",
    "    print(sorted(out))\n",
    "    V_OLD = out['V'][:]\n",
    "    keys_OLD = out['keys'][:]"
   ]
  },
  {
   "cell_type": "code",
   "execution_count": 29,
   "id": "b554711e-cd6b-49b7-9f1f-72f5b7f79664",
   "metadata": {},
   "outputs": [
    {
     "name": "stdout",
     "output_type": "stream",
     "text": [
      "['V', 'agg_method', 'date', 'features', 'input_type', 'keys', 'keys_raw', 'name']\n"
     ]
    }
   ],
   "source": [
    "with h5py.File(\"/aloy/home/acomajuncosa/CC_data_NEW/sign1/B3_sign1.h5\") as out:\n",
    "    print(sorted(out))\n",
    "    V_NEW = out['V'][:]\n",
    "    keys_NEW = out['keys'][:]"
   ]
  },
  {
   "cell_type": "code",
   "execution_count": 30,
   "id": "d05dab65-92dc-47dd-918b-00afd61f8842",
   "metadata": {},
   "outputs": [
    {
     "data": {
      "text/plain": [
       "((30184, 1881), (33524, 1809))"
      ]
     },
     "execution_count": 30,
     "metadata": {},
     "output_type": "execute_result"
    }
   ],
   "source": [
    "V_OLD.shape, V_NEW.shape"
   ]
  },
  {
   "cell_type": "code",
   "execution_count": 24,
   "id": "0fa9eb91-5ef8-45f6-b7cf-6dea717638bc",
   "metadata": {},
   "outputs": [
    {
     "data": {
      "text/plain": [
       "56776104"
      ]
     },
     "execution_count": 24,
     "metadata": {},
     "output_type": "execute_result"
    }
   ],
   "source": [
    "30184*1881"
   ]
  },
  {
   "cell_type": "code",
   "execution_count": 25,
   "id": "8130be4f-0ef4-46fa-b713-44cc0751148c",
   "metadata": {},
   "outputs": [
    {
     "data": {
      "text/plain": [
       "60644916"
      ]
     },
     "execution_count": 25,
     "metadata": {},
     "output_type": "execute_result"
    }
   ],
   "source": [
    "33524*1809"
   ]
  },
  {
   "cell_type": "code",
   "execution_count": 18,
   "id": "e6c3c96b-5bfc-4dfe-8af1-0991e79f0d5f",
   "metadata": {},
   "outputs": [
    {
     "data": {
      "text/plain": [
       "1350"
      ]
     },
     "execution_count": 18,
     "metadata": {},
     "output_type": "execute_result"
    }
   ],
   "source": [
    "len(keys_OLD)"
   ]
  },
  {
   "cell_type": "code",
   "execution_count": null,
   "id": "0b3c93d2-c180-4d35-bb79-6f93a38960bd",
   "metadata": {},
   "outputs": [],
   "source": []
  }
 ],
 "metadata": {
  "kernelspec": {
   "display_name": "Python 3 (ipykernel)",
   "language": "python",
   "name": "python3"
  },
  "language_info": {
   "codemirror_mode": {
    "name": "ipython",
    "version": 3
   },
   "file_extension": ".py",
   "mimetype": "text/x-python",
   "name": "python",
   "nbconvert_exporter": "python",
   "pygments_lexer": "ipython3",
   "version": "3.10.14"
  }
 },
 "nbformat": 4,
 "nbformat_minor": 5
}
