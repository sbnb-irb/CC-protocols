{
 "cells": [
  {
   "cell_type": "code",
   "execution_count": 5,
   "id": "dbc3be25-4c77-4e85-aca5-fdb09989c70e",
   "metadata": {
    "tags": []
   },
   "outputs": [
    {
     "name": "stderr",
     "output_type": "stream",
     "text": [
      "2024-02-06 15:53:17,095 chemicalchecker.core.chemcheck.ChemicalChecker [DEBUG   ] Logging level DEBUG for logger 'chemicalchecker'.\n"
     ]
    }
   ],
   "source": [
    "from chemicalchecker import ChemicalChecker\n",
    "ChemicalChecker.set_verbosity('DEBUG')"
   ]
  },
  {
   "cell_type": "code",
   "execution_count": 10,
   "id": "bba13018-4903-4451-94f2-156a9d9c10d3",
   "metadata": {
    "tags": []
   },
   "outputs": [
    {
     "name": "stderr",
     "output_type": "stream",
     "text": [
      "2024-02-06 15:56:38,880 chemicalchecker.core.chemcheck.ChemicalChecker [DEBUG   ] ChemicalChecker with root: /aloy/home/acomajuncosa/Protocols/Notebooks/local_cc\n",
      "2024-02-06 15:56:38,883 chemicalchecker.core.chemcheck.ChemicalChecker [DEBUG   ] Empty root directory,creating root and dataset dirs\n",
      "2024-02-06 15:56:38,887 chemicalchecker.core.chemcheck.ChemicalChecker [DEBUG   ] Testing DB connection.\n"
     ]
    }
   ],
   "source": [
    "local_cc_dir = './local_cc'\n",
    "cc_local = ChemicalChecker(local_cc_dir)"
   ]
  }
 ],
 "metadata": {
  "kernelspec": {
   "display_name": "Python 3 (ipykernel)",
   "language": "python",
   "name": "python3"
  },
  "language_info": {
   "codemirror_mode": {
    "name": "ipython",
    "version": 3
   },
   "file_extension": ".py",
   "mimetype": "text/x-python",
   "name": "python",
   "nbconvert_exporter": "python",
   "pygments_lexer": "ipython3",
   "version": "3.7.12"
  }
 },
 "nbformat": 4,
 "nbformat_minor": 5
}
