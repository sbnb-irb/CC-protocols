{
 "cells": [
  {
   "cell_type": "code",
   "execution_count": 2,
   "id": "d867eb3f-6ac3-47e7-b7be-208300e245e3",
   "metadata": {},
   "outputs": [],
   "source": [
    "import os\n",
    "import matplotlib.pyplot as plt\n",
    "import matplotlib.gridspec as gridspec\n",
    "import numpy as np\n",
    "import pickle\n",
    "import h5py\n",
    "from collections import Counter\n",
    "from sklearn.manifold import TSNE\n",
    "import random\n",
    "from sklearn.metrics import pairwise_distances\n",
    "import tqdm\n",
    "from scipy.spatial import distance\n",
    "from scipy.interpolate import interp1d\n",
    "from sklearn import metrics\n",
    "import pandas as pd\n",
    "import sys"
   ]
  },
  {
   "cell_type": "code",
   "execution_count": 3,
   "id": "ca79d553-a949-49a6-84ae-e3cb24d48464",
   "metadata": {},
   "outputs": [],
   "source": [
    "PATH_TO_OUTPUT = \"/aloy/home/acomajuncosa/Protocols/rebutal_analyses/information_loss/\"\n",
    "spaces = ['B1.002', 'D1.002', 'D6.001', 'M1.001']\n",
    "signatures = ['sign0', 'sign1', 'sign2', 'sign3']\n",
    "elements = [[i,j] for i in spaces for j in signatures]\n",
    "\n",
    "# Create directory\n",
    "PATH_TO_PVALUES = os.path.join(PATH_TO_OUTPUT, 'pvalues_4NEW')\n",
    "os.makedirs(PATH_TO_PVALUES, exist_ok=True)"
   ]
  },
  {
   "cell_type": "code",
   "execution_count": 4,
   "id": "9a2944c1-1005-4b7c-adc8-6d2549501c48",
   "metadata": {},
   "outputs": [
    {
     "data": {
      "text/plain": [
       "16"
      ]
     },
     "execution_count": 4,
     "metadata": {},
     "output_type": "execute_result"
    }
   ],
   "source": [
    "len(elements)"
   ]
  },
  {
   "cell_type": "code",
   "execution_count": 21,
   "id": "0d0e1e30-b1c2-4193-bec8-74926899b21c",
   "metadata": {},
   "outputs": [
    {
     "name": "stdout",
     "output_type": "stream",
     "text": [
      "Launched!\n"
     ]
    }
   ],
   "source": [
    "import os\n",
    "import sys\n",
    "from chemicalchecker.util.hpc import HPC\n",
    "# cc_config.json\n",
    "cluster_config = {\"system\" : \"sge\", \"host\": \"pac-one-head\", \"queue\": \"all.q\", \"username\": \"acomajuncosa\"}\n",
    "\n",
    "scratch_path = \"/aloy/scratch/acomajuncosa/Protocols/rebutal_analyses/information_loss_pvalues_4NEW\"\n",
    "script_path = \"/aloy/home/acomajuncosa/Protocols/rebutal_analyses/information_loss/pvalues_4NEW.py\"\n",
    "\n",
    "ncpus = 16\n",
    "cluster = HPC(**cluster_config)\n",
    "njobs = len(elements)\n",
    "\n",
    "cluster_params = {}\n",
    "cluster_params['job_name'] = 'cc_pval4'\n",
    "cluster_params[\"jobdir\"] = scratch_path\n",
    "cluster_params[\"memory\"] = ncpus\n",
    "cluster_params['cpu'] = ncpus\n",
    "cluster_params[\"wait\"] = False\n",
    "cluster_params[\"elements\"] = elements\n",
    "cluster_params[\"num_jobs\"] = len(elements)\n",
    "\n",
    "\n",
    "singularity_image = \"/aloy/home/acomajuncosa/images/2023_05.simg\"\n",
    "command = \"singularity exec {} python {} <TASK_ID> <FILE>\".format(\n",
    "singularity_image,\n",
    "script_path)\n",
    "\n",
    "cluster.submitMultiJob(command, **cluster_params)\n",
    "\n",
    "print('Launched!')"
   ]
  },
  {
   "cell_type": "code",
   "execution_count": 4,
   "id": "32b6a126-973e-4265-b4ac-f9c8c4ed0889",
   "metadata": {},
   "outputs": [],
   "source": [
    "# No errors\n",
    "### check errors\n",
    "path = '/aloy/scratch/acomajuncosa/Protocols/rebutal_analyses/information_loss_pvalues_4NEW/'\n",
    "for file in sorted(os.listdir(path)):\n",
    "    if \".o\" in file:\n",
    "        with open(os.path.join(path, file), \"r\") as f:\n",
    "            for l in f:\n",
    "                if \"error\" in l.lower() or \"warning\" in l.lower():\n",
    "                    print(file)\n",
    "                    break"
   ]
  },
  {
   "cell_type": "code",
   "execution_count": null,
   "id": "b77bebc3-7d2d-472c-9a8c-d5c7e078bc36",
   "metadata": {},
   "outputs": [],
   "source": []
  },
  {
   "cell_type": "code",
   "execution_count": null,
   "id": "55411481-da1d-4880-a1c5-d832eb11fb7a",
   "metadata": {},
   "outputs": [],
   "source": []
  },
  {
   "cell_type": "code",
   "execution_count": 32,
   "id": "ff364c9c-8def-4a9a-8f87-7ed8da6a4262",
   "metadata": {},
   "outputs": [],
   "source": [
    "### CALCULATE RECAPITULATION ###"
   ]
  },
  {
   "cell_type": "code",
   "execution_count": 6,
   "id": "85826495-c1f0-453e-86a8-aea56bd69cc9",
   "metadata": {},
   "outputs": [],
   "source": [
    "elements = ['B1.002', 'D1.002', 'D6.001', 'M1.001']\n",
    "elements = ['D1.002']"
   ]
  },
  {
   "cell_type": "code",
   "execution_count": 7,
   "id": "ee2a8f2e-f9de-45cb-ac6a-db0b87d81ba2",
   "metadata": {},
   "outputs": [
    {
     "name": "stdout",
     "output_type": "stream",
     "text": [
      "Launched!\n"
     ]
    }
   ],
   "source": [
    "import os\n",
    "import sys\n",
    "from chemicalchecker.util.hpc import HPC\n",
    "# cc_config.json\n",
    "cluster_config = {\"system\" : \"sge\", \"host\": \"pac-one-head\", \"queue\": \"all.q\", \"username\": \"acomajuncosa\"}\n",
    "\n",
    "scratch_path = \"/aloy/scratch/acomajuncosa/Protocols/rebutal_analyses/information_loss_4NEW\"\n",
    "script_path = \"/aloy/home/acomajuncosa/Protocols/rebutal_analyses/information_loss/recapitulation_4NEW.py\"\n",
    "\n",
    "ncpus = 64\n",
    "cluster = HPC(**cluster_config)\n",
    "njobs = len(elements)\n",
    "\n",
    "cluster_params = {}\n",
    "cluster_params['job_name'] = 'cc_recap4'\n",
    "cluster_params[\"jobdir\"] = scratch_path\n",
    "cluster_params[\"memory\"] = ncpus\n",
    "cluster_params['cpu'] = ncpus\n",
    "cluster_params[\"wait\"] = False\n",
    "cluster_params[\"elements\"] = elements\n",
    "cluster_params[\"num_jobs\"] = len(elements)\n",
    "\n",
    "\n",
    "singularity_image = \"/aloy/home/acomajuncosa/images/2023_05.simg\"\n",
    "command = \"singularity exec {} python {} <TASK_ID> <FILE>\".format(\n",
    "singularity_image,\n",
    "script_path)\n",
    "\n",
    "cluster.submitMultiJob(command, **cluster_params)\n",
    "\n",
    "print('Launched!')"
   ]
  },
  {
   "cell_type": "code",
   "execution_count": 5,
   "id": "784a7583-0d17-4162-961c-a11e4fca005f",
   "metadata": {},
   "outputs": [],
   "source": [
    "# No errors\n",
    "### check errors\n",
    "path = '/aloy/scratch/acomajuncosa/Protocols/rebutal_analyses/information_loss_4NEW/'\n",
    "for file in sorted(os.listdir(path)):\n",
    "    if \".o\" in file:\n",
    "        with open(os.path.join(path, file), \"r\") as f:\n",
    "            for l in f:\n",
    "                if \"error\" in l.lower() or \"warning\" in l.lower():\n",
    "                    print(file)\n",
    "                    break"
   ]
  },
  {
   "cell_type": "code",
   "execution_count": null,
   "id": "00c4395b-0e47-4fb1-bd70-4597cc2a2482",
   "metadata": {},
   "outputs": [],
   "source": []
  },
  {
   "cell_type": "code",
   "execution_count": null,
   "id": "2181770d-6321-46af-a921-48c15d071b13",
   "metadata": {},
   "outputs": [],
   "source": []
  },
  {
   "cell_type": "code",
   "execution_count": 5,
   "id": "8c5e5ee5-854e-4330-9d8b-1ba3be2f9f94",
   "metadata": {},
   "outputs": [],
   "source": [
    "#### READ AND PLOT RESULTS ###\n",
    "%matplotlib inline"
   ]
  },
  {
   "cell_type": "code",
   "execution_count": 17,
   "id": "ef7fa491-4168-4fd9-87f8-2a8beebcb0a7",
   "metadata": {},
   "outputs": [
    {
     "data": {
      "image/png": "[encoded data removed]",
      "text/plain": [
       "<Figure size 750x250 with 4 Axes>"
      ]
     },
     "metadata": {},
     "output_type": "display_data"
    }
   ],
   "source": [
    "PATH_TO_OUTPUT = \"/aloy/home/acomajuncosa/Protocols/rebutal_analyses/information_loss/\"\n",
    "PATH_TO_PVALUES = os.path.join(PATH_TO_OUTPUT, 'pvalues_4NEW')\n",
    "PATH_TO_AUROCS = os.path.join(PATH_TO_OUTPUT, 'aurocs_4NEW')\n",
    "spaces = ['B1.002', 'D1.002', 'D6.001', 'M1.001']\n",
    "\n",
    "combinations = [\"sign0-sign1\", \"sign0-sign2\", \"sign0-sign3\", \"sign1-sign2\", \"sign1-sign3\", \"sign2-sign3\"]\n",
    "sign_to_color = {'sign0': 'tab:blue', 'sign1': 'tab:orange', 'sign2': 'tab:purple', 'sign3': 'tab:red'}\n",
    "space_to_color = {'B1.002': \"#c189b9\", 'D1.002': \"#b0cf7f\", 'D6.001': \"#b0cf7f\", 'M1.001': \"#d9c19d\"}\n",
    "\n",
    "# Plot the figure\n",
    "fig, ax = plt.subplots(1, 4, figsize=(7.5, 2.5), sharex=True, sharey=True)\n",
    "\n",
    "for c, space in enumerate(spaces):\n",
    "\n",
    "    # Adjust limits\n",
    "    ax[c].set_ylim([0.4, 1.05])\n",
    "    ax[c].plot([-1, len(combinations)], [0.5, 0.5], color='k', linestyle='--')\n",
    "    ax[c].grid(linestyle='--')\n",
    "    ax[c].set_title(space, pad=12)\n",
    "    ax[c].set_xticks([i for i in range(len(combinations))])\n",
    "    ax[c].set_xticklabels(combinations, rotation=90, size=8)\n",
    "    ax[c].set_xlim([-1, len(combinations)])\n",
    "\n",
    "    # Load data\n",
    "    path_to_file = os.path.join(PATH_TO_AUROCS, space + \".tsv\")\n",
    "    if os.path.exists(path_to_file) == True:\n",
    "        data = pd.read_csv(path_to_file, sep='\\t')\n",
    "\n",
    "        # Plot results\n",
    "        for count, combi in enumerate(combinations):\n",
    "            aurocs = data[data[\"Combination\"] == combi]['AUROC'].tolist()\n",
    "            ax[c].plot([count, count], [np.min(aurocs), np.max(aurocs)], c=\"k\")\n",
    "            ax[c].scatter([count], np.mean(aurocs), color=space_to_color[space], s=30, zorder=2, ec='k', lw=0.5)\n",
    "            \n",
    "    \n",
    "    # Y axis\n",
    "    if c == 0:\n",
    "        ax[c].set_ylabel(\"AUROC\", labelpad=11)\n",
    "\n",
    "plt.tight_layout()\n",
    "plt.savefig(os.path.join(PATH_TO_OUTPUT, 'cc_recap_4NEW.png'), dpi=300)\n",
    "plt.show()"
   ]
  },
  {
   "cell_type": "code",
   "execution_count": null,
   "id": "982fd986-ffea-4297-b7fe-eff4336bd9dc",
   "metadata": {},
   "outputs": [],
   "source": []
  }
 ],
 "metadata": {
  "kernelspec": {
   "display_name": "Python 3 (ipykernel)",
   "language": "python",
   "name": "python3"
  },
  "language_info": {
   "codemirror_mode": {
    "name": "ipython",
    "version": 3
   },
   "file_extension": ".py",
   "mimetype": "text/x-python",
   "name": "python",
   "nbconvert_exporter": "python",
   "pygments_lexer": "ipython3",
   "version": "3.10.14"
  }
 },
 "nbformat": 4,
 "nbformat_minor": 5
}
