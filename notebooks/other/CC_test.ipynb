{
 "cells": [
  {
   "cell_type": "code",
   "execution_count": 1,
   "id": "dbc3be25-4c77-4e85-aca5-fdb09989c70e",
   "metadata": {
    "tags": []
   },
   "outputs": [
    {
     "name": "stderr",
     "output_type": "stream",
     "text": [
      "2024-02-21 14:52:04,078 chemicalchecker.core.chemcheck.ChemicalChecker [DEBUG   ] Logging level DEBUG for logger 'chemicalchecker'.\n"
     ]
    }
   ],
   "source": [
    "from chemicalchecker import ChemicalChecker\n",
    "ChemicalChecker.set_verbosity('DEBUG')"
   ]
  },
  {
   "cell_type": "code",
   "execution_count": 2,
   "id": "bba13018-4903-4451-94f2-156a9d9c10d3",
   "metadata": {
    "tags": []
   },
   "outputs": [
    {
     "name": "stderr",
     "output_type": "stream",
     "text": [
      "2024-02-21 14:52:04,085 chemicalchecker.core.chemcheck.ChemicalChecker [DEBUG   ] ChemicalChecker with root: /aloy/home/acomajuncosa/Protocols/Local_CC\n"
     ]
    }
   ],
   "source": [
    "local_cc_dir = '/aloy/home/acomajuncosa/Protocols/Local_CC'\n",
    "cc_local = ChemicalChecker(local_cc_dir)"
   ]
  },
  {
   "cell_type": "code",
   "execution_count": null,
   "id": "9f5c062d-5870-482b-96ae-2432efd5e769",
   "metadata": {},
   "outputs": [],
   "source": []
  }
 ],
 "metadata": {
  "kernelspec": {
   "display_name": "Python 3 (ipykernel)",
   "language": "python",
   "name": "python3"
  },
  "language_info": {
   "codemirror_mode": {
    "name": "ipython",
    "version": 3
   },
   "file_extension": ".py",
   "mimetype": "text/x-python",
   "name": "python",
   "nbconvert_exporter": "python",
   "pygments_lexer": "ipython3",
   "version": "3.7.12"
  }
 },
 "nbformat": 4,
 "nbformat_minor": 5
}
