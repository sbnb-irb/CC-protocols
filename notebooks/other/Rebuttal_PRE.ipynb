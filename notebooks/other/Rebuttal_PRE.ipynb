{
 "cells": [
  {
   "cell_type": "code",
   "execution_count": 3,
   "id": "a8397c20-384f-42d8-a2d1-3b8f6ffad78b",
   "metadata": {},
   "outputs": [],
   "source": [
    "import h5py\n",
    "import os"
   ]
  },
  {
   "cell_type": "code",
   "execution_count": 20,
   "id": "7a8af7ea-8094-44fd-b2ca-d4fe3d2380f2",
   "metadata": {},
   "outputs": [
    {
     "name": "stdout",
     "output_type": "stream",
     "text": [
      "(836654, 6933)\n"
     ]
    }
   ],
   "source": [
    "PATH_TO_CC = \"/aloy/web_checker/package_cc/2021_07/full\"\n",
    "PATH_TO_CC = \"/aloy/web_checker/current/full/\"\n",
    "\n",
    "# Get shared molecules between both sign types\n",
    "# with h5py.File(os.path.join(PATH_TO_CC, \"B\", \"B4\", \"B4.001\", \"sign0\", \"sign0.h5\")) as h5:\n",
    "with h5py.File(os.path.join(PATH_TO_CC, \"B\", \"B4\", \"B4.001\", \"sign0\", \"raw\", \"preprocess.h5\")) as h5:\n",
    "    X = h5['X'].shape\n",
    "\n",
    "print(X)"
   ]
  },
  {
   "cell_type": "code",
   "execution_count": null,
   "id": "8197b81b-702e-455e-b7f1-fa855f7a81cb",
   "metadata": {},
   "outputs": [],
   "source": []
  },
  {
   "cell_type": "code",
   "execution_count": null,
   "id": "c9965a83-2a75-480f-bd28-3bed3c8afbb7",
   "metadata": {},
   "outputs": [],
   "source": []
  }
 ],
 "metadata": {
  "kernelspec": {
   "display_name": "Python 3 (ipykernel)",
   "language": "python",
   "name": "python3"
  },
  "language_info": {
   "codemirror_mode": {
    "name": "ipython",
    "version": 3
   },
   "file_extension": ".py",
   "mimetype": "text/x-python",
   "name": "python",
   "nbconvert_exporter": "python",
   "pygments_lexer": "ipython3",
   "version": "3.10.14"
  }
 },
 "nbformat": 4,
 "nbformat_minor": 5
}
