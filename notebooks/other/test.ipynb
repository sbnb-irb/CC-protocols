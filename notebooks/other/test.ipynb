{
 "cells": [
  {
   "cell_type": "code",
   "execution_count": 1,
   "id": "faae56d5-b54c-418b-a497-923fa728466b",
   "metadata": {},
   "outputs": [
    {
     "name": "stderr",
     "output_type": "stream",
     "text": [
      "2024-10-23 15:09:08,834 chemicalchecker.core.chemcheck.ChemicalChecker [DEBUG   ] Logging level DEBUG for logger 'chemicalchecker'.\n"
     ]
    }
   ],
   "source": [
    "import os\n",
    "# Specify the location of the CC config file. \n",
    "# os.environ['CC_CONFIG'] = '/path/to/your_cc_config.json'  #  e.g. chemicalchecker/setup/cc_config.json\n",
    "os.environ['CC_CONFIG'] = '/aloy/home/acomajuncosa/cc_config.json'\n",
    "\n",
    "from chemicalchecker import ChemicalChecker\n",
    "ChemicalChecker.set_verbosity('DEBUG') # CRITICAL, ERROR, WARN, INFO or DEBUG\n",
    "import numpy as np\n",
    "import pandas as pd\n",
    "import json\n",
    "%matplotlib inline"
   ]
  },
  {
   "cell_type": "code",
   "execution_count": 2,
   "id": "4e0a8d18-dfe1-4789-9310-138a2c0af3cc",
   "metadata": {},
   "outputs": [
    {
     "name": "stderr",
     "output_type": "stream",
     "text": [
      "2024-10-23 15:09:26,456 chemicalchecker.core.chemcheck.ChemicalChecker [DEBUG   ] ChemicalChecker with root: /aloy/home/acomajuncosa/Protocols/local_CC_M1\n",
      "2024-10-23 15:09:26,574 chemicalchecker.core.chemcheck.ChemicalChecker [INFO    ] CC root directory exists: ignoring 'custom_data_path'.\n"
     ]
    }
   ],
   "source": [
    "local_cc_dir = '../local_CC_M1'\n",
    "# PATH_TO_DATA = \"/aloy/home/acomajuncosa/CC_DATA/DATA/\"  # See Download_Data.ipynb // Procedure step 3\n",
    "PATH_TO_DATA = \"/aloy/web_checker/package_cc/2021_07/sign_model_links/\"\n",
    "cc_local = ChemicalChecker(local_cc_dir, dbconnect=False, custom_data_path=PATH_TO_DATA)"
   ]
  },
  {
   "cell_type": "code",
   "execution_count": 8,
   "id": "06c0fcbc-8162-4ad0-98a1-6a95c68af38e",
   "metadata": {},
   "outputs": [
    {
     "name": "stderr",
     "output_type": "stream",
     "text": [
      "2024-10-23 15:14:28,783 chemicalchecker.core.signature_base.BaseSignature [DEBUG   ] New signature: /aloy/home/acomajuncosa/Protocols/local_CC_M1/full/A/AB/ABCDE12345.001/sign1\n"
     ]
    },
    {
     "ename": "Exception",
     "evalue": "Data file /aloy/home/acomajuncosa/Protocols/local_CC_M1/full/A/AB/ABCDE12345.001/sign1/sign1.h5 not available.",
     "output_type": "error",
     "traceback": [
      "\u001b[0;31m---------------------------------------------------------------------------\u001b[0m",
      "\u001b[0;31mException\u001b[0m                                 Traceback (most recent call last)",
      "Cell \u001b[0;32mIn[8], line 5\u001b[0m\n\u001b[1;32m      2\u001b[0m \u001b[38;5;28;01mfor\u001b[39;00m j \u001b[38;5;129;01min\u001b[39;00m [\u001b[38;5;124m'\u001b[39m\u001b[38;5;124m12345\u001b[39m\u001b[38;5;124m'\u001b[39m]:\n\u001b[1;32m      3\u001b[0m     dataset \u001b[38;5;241m=\u001b[39m i \u001b[38;5;241m+\u001b[39m j \u001b[38;5;241m+\u001b[39m \u001b[38;5;124m\"\u001b[39m\u001b[38;5;124m.001\u001b[39m\u001b[38;5;124m\"\u001b[39m\n\u001b[0;32m----> 5\u001b[0m     sign1 \u001b[38;5;241m=\u001b[39m \u001b[43mcc_local\u001b[49m\u001b[38;5;241;43m.\u001b[39;49m\u001b[43msignature\u001b[49m\u001b[43m(\u001b[49m\u001b[43mdataset\u001b[49m\u001b[43m,\u001b[49m\u001b[43m \u001b[49m\u001b[38;5;124;43m'\u001b[39;49m\u001b[38;5;124;43msign1\u001b[39;49m\u001b[38;5;124;43m'\u001b[39;49m\u001b[43m)\u001b[49m\u001b[38;5;241;43m.\u001b[39;49m\u001b[43mshape\u001b[49m\n\u001b[1;32m      6\u001b[0m     sign2 \u001b[38;5;241m=\u001b[39m cc_local\u001b[38;5;241m.\u001b[39msignature(dataset, \u001b[38;5;124m'\u001b[39m\u001b[38;5;124msign2\u001b[39m\u001b[38;5;124m'\u001b[39m)\u001b[38;5;241m.\u001b[39mshape\n\u001b[1;32m      8\u001b[0m     \u001b[38;5;28mprint\u001b[39m(dataset, sign1, sign2, sign1[\u001b[38;5;241m0\u001b[39m]\u001b[38;5;241m==\u001b[39msign2[\u001b[38;5;241m0\u001b[39m])\n",
      "File \u001b[0;32m/aloy/home/acomajuncosa/Protocols/cc_code/chemical_checker/package/chemicalchecker/core/signature_data.py:270\u001b[0m, in \u001b[0;36mDataSignature.shape\u001b[0;34m(self)\u001b[0m\n\u001b[1;32m    267\u001b[0m \u001b[38;5;129m@property\u001b[39m\n\u001b[1;32m    268\u001b[0m \u001b[38;5;28;01mdef\u001b[39;00m \u001b[38;5;21mshape\u001b[39m(\u001b[38;5;28mself\u001b[39m):\n\u001b[1;32m    269\u001b[0m \u001b[38;5;250m    \u001b[39m\u001b[38;5;124;03m\"\"\"Get the V matrix shape.\"\"\"\u001b[39;00m\n\u001b[0;32m--> 270\u001b[0m     \u001b[38;5;28;43mself\u001b[39;49m\u001b[38;5;241;43m.\u001b[39;49m\u001b[43m_check_data\u001b[49m\u001b[43m(\u001b[49m\u001b[43m)\u001b[49m\n\u001b[1;32m    271\u001b[0m     \u001b[38;5;28mself\u001b[39m\u001b[38;5;241m.\u001b[39m_check_dataset(\u001b[38;5;28mself\u001b[39m\u001b[38;5;241m.\u001b[39mds_data)\n\u001b[1;32m    272\u001b[0m     \u001b[38;5;28;01mwith\u001b[39;00m h5py\u001b[38;5;241m.\u001b[39mFile(\u001b[38;5;28mself\u001b[39m\u001b[38;5;241m.\u001b[39mdata_path, \u001b[38;5;124m'\u001b[39m\u001b[38;5;124mr\u001b[39m\u001b[38;5;124m'\u001b[39m) \u001b[38;5;28;01mas\u001b[39;00m hf:\n",
      "File \u001b[0;32m/aloy/home/acomajuncosa/Protocols/cc_code/chemical_checker/package/chemicalchecker/core/signature_data.py:65\u001b[0m, in \u001b[0;36mDataSignature._check_data\u001b[0;34m(self)\u001b[0m\n\u001b[1;32m     63\u001b[0m \u001b[38;5;250m\u001b[39m\u001b[38;5;124;03m\"\"\"Test if data file is available\"\"\"\u001b[39;00m\n\u001b[1;32m     64\u001b[0m \u001b[38;5;28;01mif\u001b[39;00m \u001b[38;5;129;01mnot\u001b[39;00m os\u001b[38;5;241m.\u001b[39mpath\u001b[38;5;241m.\u001b[39misfile(\u001b[38;5;28mself\u001b[39m\u001b[38;5;241m.\u001b[39mdata_path):\n\u001b[0;32m---> 65\u001b[0m     \u001b[38;5;28;01mraise\u001b[39;00m \u001b[38;5;167;01mException\u001b[39;00m(\u001b[38;5;124m\"\u001b[39m\u001b[38;5;124mData file \u001b[39m\u001b[38;5;132;01m%s\u001b[39;00m\u001b[38;5;124m not available.\u001b[39m\u001b[38;5;124m\"\u001b[39m \u001b[38;5;241m%\u001b[39m \u001b[38;5;28mself\u001b[39m\u001b[38;5;241m.\u001b[39mdata_path)\n",
      "\u001b[0;31mException\u001b[0m: Data file /aloy/home/acomajuncosa/Protocols/local_CC_M1/full/A/AB/ABCDE12345.001/sign1/sign1.h5 not available."
     ]
    }
   ],
   "source": [
    "for i in [\"ABCDE\"]:\n",
    "    for j in ['12345']:\n",
    "        dataset = i + j + \".001\"\n",
    "\n",
    "        sign1 = cc_local.signature(dataset, 'sign1').shape\n",
    "        sign2 = cc_local.signature(dataset, 'sign2').shape\n",
    "        \n",
    "        print(dataset, sign1, sign2, sign1[0]==sign2[0])"
   ]
  },
  {
   "cell_type": "code",
   "execution_count": 4,
   "id": "c80b5379-dccb-4075-9796-6c697c188286",
   "metadata": {},
   "outputs": [
    {
     "data": {
      "text/plain": [
       "(1009290, 1352)"
      ]
     },
     "execution_count": 4,
     "metadata": {},
     "output_type": "execute_result"
    }
   ],
   "source": [
    "sign1.shape"
   ]
  },
  {
   "cell_type": "code",
   "execution_count": null,
   "id": "49f1ab4f-fd7a-4268-8236-0d2b0cf5ffef",
   "metadata": {},
   "outputs": [],
   "source": []
  },
  {
   "cell_type": "code",
   "execution_count": null,
   "id": "52cb8aed-57f8-4f64-a354-48d5a4fbda1f",
   "metadata": {},
   "outputs": [],
   "source": []
  },
  {
   "cell_type": "code",
   "execution_count": null,
   "id": "a2fa630c-8638-4da6-a02f-4fcbe83eabb2",
   "metadata": {},
   "outputs": [],
   "source": []
  }
 ],
 "metadata": {
  "kernelspec": {
   "display_name": "Python 3 (ipykernel)",
   "language": "python",
   "name": "python3"
  },
  "language_info": {
   "codemirror_mode": {
    "name": "ipython",
    "version": 3
   },
   "file_extension": ".py",
   "mimetype": "text/x-python",
   "name": "python",
   "nbconvert_exporter": "python",
   "pygments_lexer": "ipython3",
   "version": "3.10.14"
  }
 },
 "nbformat": 4,
 "nbformat_minor": 5
}
