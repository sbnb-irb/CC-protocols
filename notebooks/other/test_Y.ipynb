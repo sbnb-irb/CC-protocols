{
 "cells": [
  {
   "cell_type": "code",
   "execution_count": 7,
   "id": "41aba53d-7791-4578-9ca2-e675f048720e",
   "metadata": {},
   "outputs": [],
   "source": [
    "import os\n",
    "import matplotlib.pyplot as plt\n",
    "import matplotlib.gridspec as gridspec\n",
    "import numpy as np\n",
    "import pickle\n",
    "import h5py\n",
    "from collections import Counter\n",
    "from sklearn.manifold import TSNE\n",
    "import random\n",
    "from sklearn.metrics import pairwise_distances\n",
    "import tqdm\n",
    "from scipy.spatial import distance\n",
    "from scipy.interpolate import interp1d\n",
    "from sklearn import metrics\n",
    "import pandas as pd\n",
    "import sys"
   ]
  },
  {
   "cell_type": "code",
   "execution_count": 9,
   "id": "403f4c79-adb5-4b43-9482-1d75134b15af",
   "metadata": {},
   "outputs": [],
   "source": [
    "with h5py.File(\"/aloy/home/ymartins/protocols_gpu/local_cc/full/A/A1/A1.001/sign0/sign0.h5\") as h5:\n",
    "    keys_1 = np.array([i.decode('utf-8') for i in h5['keys'][:]])"
   ]
  },
  {
   "cell_type": "code",
   "execution_count": 10,
   "id": "9dc42a31-86ec-47be-b7d3-f12e90d5c486",
   "metadata": {},
   "outputs": [
    {
     "data": {
      "text/plain": [
       "1230665"
      ]
     },
     "execution_count": 10,
     "metadata": {},
     "output_type": "execute_result"
    }
   ],
   "source": [
    "len(keys_1)"
   ]
  },
  {
   "cell_type": "code",
   "execution_count": null,
   "id": "2f6260d9-0570-4fda-b802-1a2d6334e0f3",
   "metadata": {},
   "outputs": [],
   "source": []
  }
 ],
 "metadata": {
  "kernelspec": {
   "display_name": "Python 3 (ipykernel)",
   "language": "python",
   "name": "python3"
  },
  "language_info": {
   "codemirror_mode": {
    "name": "ipython",
    "version": 3
   },
   "file_extension": ".py",
   "mimetype": "text/x-python",
   "name": "python",
   "nbconvert_exporter": "python",
   "pygments_lexer": "ipython3",
   "version": "3.10.14"
  }
 },
 "nbformat": 4,
 "nbformat_minor": 5
}
