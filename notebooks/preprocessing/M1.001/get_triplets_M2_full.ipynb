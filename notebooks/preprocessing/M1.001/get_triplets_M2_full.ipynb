{
 "cells": [
  {
   "cell_type": "code",
   "execution_count": 28,
   "id": "a8d19ae2",
   "metadata": {},
   "outputs": [],
   "source": [
    "import os\n",
    "import sys\n",
    "import numpy as np\n",
    "import pandas as pd\n",
    "from collections import Counter\n",
    "from tqdm.notebook import tqdm\n",
    "\n",
    "from scipy.spatial.distance import pdist, squareform\n",
    "from scipy.stats import pearsonr\n",
    "from sklearn.decomposition import PCA\n",
    "\n",
    "import matplotlib.pyplot as plt\n",
    "import seaborn as sns\n",
    "%matplotlib inline"
   ]
  },
  {
   "cell_type": "code",
   "execution_count": 29,
   "id": "11a880c8",
   "metadata": {},
   "outputs": [],
   "source": [
    "#--Reading\n",
    "df = pd.read_csv('../data/campos_extended_matrix_inchikeys.csv', index_col=0)\n"
   ]
  },
  {
   "cell_type": "code",
   "execution_count": 30,
   "id": "34961aa8",
   "metadata": {},
   "outputs": [
    {
     "name": "stdout",
     "output_type": "stream",
     "text": [
      "[0.06818108 0.06014282 0.02590583 0.02274214 0.01720001 0.01528849\n",
      " 0.01352737 0.01270726 0.01036494 0.01008709 0.00840129 0.0081555\n",
      " 0.00743341 0.00664726 0.00637124 0.0061829  0.00602657 0.00577572\n",
      " 0.00566963 0.0056092  0.00549776 0.00526241 0.00515443 0.00493388\n",
      " 0.0048152  0.00472294 0.00460422 0.00450919 0.00439585 0.00430813\n",
      " 0.00422098 0.0041271  0.00402728 0.00395898 0.00392418 0.00387672\n",
      " 0.0037528  0.00373736 0.00366495 0.0036101  0.00359366 0.00356597\n",
      " 0.00352645 0.00345016 0.00338677 0.00334181 0.00330639 0.00326167\n",
      " 0.00323473 0.0031882  0.00316639 0.00311885 0.0031013  0.0030572\n",
      " 0.00300784 0.0029511  0.00292253 0.00290985 0.00286475 0.00285424\n",
      " 0.00281525 0.00278437 0.00276543 0.0027493  0.00270374 0.00269517\n",
      " 0.00265814 0.00261769 0.00261498 0.00255489 0.00254844 0.00246972\n",
      " 0.00245327 0.00242222 0.0024071  0.00238962 0.00234683 0.00233452\n",
      " 0.00232407 0.00230461 0.00227641 0.00226686 0.00223998 0.00223109\n",
      " 0.00220657 0.00218992 0.00216117 0.00215734 0.00212231 0.00211153\n",
      " 0.00207528 0.00205646 0.00204082 0.00202292 0.0020029  0.00197504\n",
      " 0.00194793 0.00193965 0.00192551 0.00190002]\n",
      "0.5661431534123528\n"
     ]
    }
   ],
   "source": [
    "pca = PCA(n_components=100)\n",
    "pca_red = pca.fit_transform(df.to_numpy())\n",
    "print(pca.explained_variance_ratio_)\n",
    "print(np.sum(pca.explained_variance_ratio_))"
   ]
  },
  {
   "cell_type": "code",
   "execution_count": 8,
   "id": "b15613da",
   "metadata": {},
   "outputs": [
    {
     "data": {
      "text/plain": [
       "(1309, 100)"
      ]
     },
     "execution_count": 8,
     "metadata": {},
     "output_type": "execute_result"
    }
   ],
   "source": [
    "pca_red.shape"
   ]
  },
  {
   "cell_type": "code",
   "execution_count": 9,
   "id": "6efd4946",
   "metadata": {},
   "outputs": [],
   "source": [
    "pca_df = pd.DataFrame(pca_red, index=df.index)"
   ]
  },
  {
   "cell_type": "code",
   "execution_count": 10,
   "id": "6cdcad02",
   "metadata": {},
   "outputs": [],
   "source": [
    "v = pca_df.values.ravel()"
   ]
  },
  {
   "cell_type": "code",
   "execution_count": 11,
   "id": "786ecc5d",
   "metadata": {},
   "outputs": [
    {
     "data": {
      "text/plain": [
       "<matplotlib.axes._subplots.AxesSubplot at 0x7efcecaf0a10>"
      ]
     },
     "execution_count": 11,
     "metadata": {},
     "output_type": "execute_result"
    },
    {
     "data": {
      "image/png": "[encoded data removed]",
      "text/plain": [
       "<Figure size 432x288 with 1 Axes>"
      ]
     },
     "metadata": {
      "needs_background": "light"
     },
     "output_type": "display_data"
    }
   ],
   "source": [
    "sns.histplot(np.random.choice(v, 10000))"
   ]
  },
  {
   "cell_type": "code",
   "execution_count": 12,
   "id": "39e8a018",
   "metadata": {},
   "outputs": [
    {
     "data": {
      "text/plain": [
       "1.9428337517009322"
      ]
     },
     "execution_count": 12,
     "metadata": {},
     "output_type": "execute_result"
    }
   ],
   "source": [
    "np.percentile(v, 90)"
   ]
  },
  {
   "cell_type": "code",
   "execution_count": 13,
   "id": "f0d3d140",
   "metadata": {},
   "outputs": [
    {
     "name": "stdout",
     "output_type": "stream",
     "text": [
      "# uneffective: 50\n",
      "# effective: 1309\n"
     ]
    }
   ],
   "source": [
    "pca_df = pd.DataFrame(pca_red, index=df.index)\n",
    "\n",
    "#--Trasforming\n",
    "cutoff = np.percentile(v, 90)\n",
    "pca_df = pca_df > cutoff\n",
    "pca_df_neg = pca_df < -cutoff\n",
    "\n",
    "pca_df = pd.merge(pca_df, pca_df_neg, left_index=True, right_index=True)\n",
    "\n",
    "uneffective = pca_df.index.values[np.array(pca_df.sum(1) == 0)]\n",
    "pca_df = pca_df.iloc[np.array(pca_df.sum(1) > 0)]\n",
    "\n",
    "print('# uneffective: %i'%len(uneffective))\n",
    "print('# effective: %i'%len(df))"
   ]
  },
  {
   "cell_type": "code",
   "execution_count": 14,
   "id": "63f27fe5",
   "metadata": {},
   "outputs": [
    {
     "data": {
      "text/plain": [
       "<matplotlib.axes._subplots.AxesSubplot at 0x7efce895d050>"
      ]
     },
     "execution_count": 14,
     "metadata": {},
     "output_type": "execute_result"
    },
    {
     "data": {
      "image/png": "[encoded data removed]",
      "text/plain": [
       "<Figure size 400x400 with 1 Axes>"
      ]
     },
     "metadata": {
      "needs_background": "light"
     },
     "output_type": "display_data"
    }
   ],
   "source": [
    "plt.figure(figsize=(4,4),dpi=100)\n",
    "sns.ecdfplot(pca_df.sum(1))"
   ]
  },
  {
   "cell_type": "code",
   "execution_count": 15,
   "id": "f10b4b79",
   "metadata": {},
   "outputs": [],
   "source": [
    "#--Getting similarities\n",
    "jc_similarities = 1- pdist(pca_df, 'jaccard')\n",
    "df2 = pd.DataFrame(squareform(jc_similarities), index= pca_df.index.values, columns=pca_df.index.values)"
   ]
  },
  {
   "cell_type": "code",
   "execution_count": 16,
   "id": "7fb2d5b7",
   "metadata": {},
   "outputs": [
    {
     "data": {
      "text/html": [
       "<div>\n",
       "<style scoped>\n",
       "    .dataframe tbody tr th:only-of-type {\n",
       "        vertical-align: middle;\n",
       "    }\n",
       "\n",
       "    .dataframe tbody tr th {\n",
       "        vertical-align: top;\n",
       "    }\n",
       "\n",
       "    .dataframe thead th {\n",
       "        text-align: right;\n",
       "    }\n",
       "</style>\n",
       "<table border=\"1\" class=\"dataframe\">\n",
       "  <thead>\n",
       "    <tr style=\"text-align: right;\">\n",
       "      <th></th>\n",
       "      <th>AADCDMQTJNYOSS-LBPRGKRZSA-N</th>\n",
       "      <th>AAFNEINEQRQMTF-LREBCSMRSA-N</th>\n",
       "      <th>ABTXGJFUQRCPNH-UHFFFAOYSA-N</th>\n",
       "      <th>ACGDKVXYNVEAGU-UHFFFAOYSA-N</th>\n",
       "      <th>ACGUYXCXAPNIKK-UHFFFAOYSA-N</th>\n",
       "      <th>ACTOXUHEUCPTEW-OBURPCBNSA-N</th>\n",
       "      <th>ACWBQPMHZXGDFX-QFIPXVFZSA-N</th>\n",
       "      <th>AEOCXXJPGCBFJA-UHFFFAOYSA-N</th>\n",
       "      <th>AEUTYOVWOVBAKS-UWVGGRQHSA-N</th>\n",
       "      <th>AFJCNBBHEVLGCZ-UHFFFAOYSA-N</th>\n",
       "      <th>...</th>\n",
       "      <th>ZUFQODAHGAHPFQ-UHFFFAOYSA-N</th>\n",
       "      <th>ZUFVXZVXEJHHBN-UHFFFAOYSA-N</th>\n",
       "      <th>ZUXNZUWOTSUBMN-UHFFFAOYSA-N</th>\n",
       "      <th>ZWBTYMGEBZUQTK-PVLSIAFMSA-N</th>\n",
       "      <th>ZWZIQPOLMDPIQM-UHFFFAOYSA-N</th>\n",
       "      <th>ZXKXJHAOUFHNAS-FVGYRXGTSA-N</th>\n",
       "      <th>ZXNRTKGTQJPIJK-UHFFFAOYSA-N</th>\n",
       "      <th>ZYSCHNVPUOSLNC-BTJKTKAUSA-N</th>\n",
       "      <th>ZZORFUFYDOWNEF-UHFFFAOYSA-N</th>\n",
       "      <th>ZZUFCTLCJUWOSV-UHFFFAOYSA-N</th>\n",
       "    </tr>\n",
       "  </thead>\n",
       "  <tbody>\n",
       "    <tr>\n",
       "      <th>AADCDMQTJNYOSS-LBPRGKRZSA-N</th>\n",
       "      <td>0.000000</td>\n",
       "      <td>0.035714</td>\n",
       "      <td>0.000000</td>\n",
       "      <td>0.086957</td>\n",
       "      <td>0.150000</td>\n",
       "      <td>0.125000</td>\n",
       "      <td>0.166667</td>\n",
       "      <td>0.136364</td>\n",
       "      <td>0.193548</td>\n",
       "      <td>0.151515</td>\n",
       "      <td>...</td>\n",
       "      <td>0.107143</td>\n",
       "      <td>0.00</td>\n",
       "      <td>0.100000</td>\n",
       "      <td>0.107143</td>\n",
       "      <td>0.000000</td>\n",
       "      <td>0.043478</td>\n",
       "      <td>0.000000</td>\n",
       "      <td>0.035714</td>\n",
       "      <td>0.034483</td>\n",
       "      <td>0.200000</td>\n",
       "    </tr>\n",
       "    <tr>\n",
       "      <th>AAFNEINEQRQMTF-LREBCSMRSA-N</th>\n",
       "      <td>0.035714</td>\n",
       "      <td>0.000000</td>\n",
       "      <td>0.000000</td>\n",
       "      <td>0.111111</td>\n",
       "      <td>0.068966</td>\n",
       "      <td>0.000000</td>\n",
       "      <td>0.062500</td>\n",
       "      <td>0.000000</td>\n",
       "      <td>0.047619</td>\n",
       "      <td>0.045455</td>\n",
       "      <td>...</td>\n",
       "      <td>0.000000</td>\n",
       "      <td>0.00</td>\n",
       "      <td>0.058824</td>\n",
       "      <td>0.066667</td>\n",
       "      <td>0.230769</td>\n",
       "      <td>0.125000</td>\n",
       "      <td>0.000000</td>\n",
       "      <td>0.076923</td>\n",
       "      <td>0.250000</td>\n",
       "      <td>0.080000</td>\n",
       "    </tr>\n",
       "    <tr>\n",
       "      <th>ABTXGJFUQRCPNH-UHFFFAOYSA-N</th>\n",
       "      <td>0.000000</td>\n",
       "      <td>0.000000</td>\n",
       "      <td>0.000000</td>\n",
       "      <td>0.000000</td>\n",
       "      <td>0.000000</td>\n",
       "      <td>0.041667</td>\n",
       "      <td>0.000000</td>\n",
       "      <td>0.000000</td>\n",
       "      <td>0.062500</td>\n",
       "      <td>0.058824</td>\n",
       "      <td>...</td>\n",
       "      <td>0.000000</td>\n",
       "      <td>0.00</td>\n",
       "      <td>0.181818</td>\n",
       "      <td>0.100000</td>\n",
       "      <td>0.100000</td>\n",
       "      <td>0.000000</td>\n",
       "      <td>0.000000</td>\n",
       "      <td>0.000000</td>\n",
       "      <td>0.111111</td>\n",
       "      <td>0.000000</td>\n",
       "    </tr>\n",
       "    <tr>\n",
       "      <th>ACGDKVXYNVEAGU-UHFFFAOYSA-N</th>\n",
       "      <td>0.086957</td>\n",
       "      <td>0.111111</td>\n",
       "      <td>0.000000</td>\n",
       "      <td>0.000000</td>\n",
       "      <td>0.000000</td>\n",
       "      <td>0.083333</td>\n",
       "      <td>0.034483</td>\n",
       "      <td>0.000000</td>\n",
       "      <td>0.000000</td>\n",
       "      <td>0.000000</td>\n",
       "      <td>...</td>\n",
       "      <td>0.000000</td>\n",
       "      <td>0.00</td>\n",
       "      <td>0.076923</td>\n",
       "      <td>0.090909</td>\n",
       "      <td>0.090909</td>\n",
       "      <td>0.250000</td>\n",
       "      <td>0.250000</td>\n",
       "      <td>0.250000</td>\n",
       "      <td>0.100000</td>\n",
       "      <td>0.095238</td>\n",
       "    </tr>\n",
       "    <tr>\n",
       "      <th>ACGUYXCXAPNIKK-UHFFFAOYSA-N</th>\n",
       "      <td>0.150000</td>\n",
       "      <td>0.068966</td>\n",
       "      <td>0.000000</td>\n",
       "      <td>0.000000</td>\n",
       "      <td>0.000000</td>\n",
       "      <td>0.119048</td>\n",
       "      <td>0.133333</td>\n",
       "      <td>0.106383</td>\n",
       "      <td>0.114286</td>\n",
       "      <td>0.290323</td>\n",
       "      <td>...</td>\n",
       "      <td>0.064516</td>\n",
       "      <td>0.04</td>\n",
       "      <td>0.029412</td>\n",
       "      <td>0.064516</td>\n",
       "      <td>0.064516</td>\n",
       "      <td>0.000000</td>\n",
       "      <td>0.040000</td>\n",
       "      <td>0.000000</td>\n",
       "      <td>0.066667</td>\n",
       "      <td>0.128205</td>\n",
       "    </tr>\n",
       "    <tr>\n",
       "      <th>...</th>\n",
       "      <td>...</td>\n",
       "      <td>...</td>\n",
       "      <td>...</td>\n",
       "      <td>...</td>\n",
       "      <td>...</td>\n",
       "      <td>...</td>\n",
       "      <td>...</td>\n",
       "      <td>...</td>\n",
       "      <td>...</td>\n",
       "      <td>...</td>\n",
       "      <td>...</td>\n",
       "      <td>...</td>\n",
       "      <td>...</td>\n",
       "      <td>...</td>\n",
       "      <td>...</td>\n",
       "      <td>...</td>\n",
       "      <td>...</td>\n",
       "      <td>...</td>\n",
       "      <td>...</td>\n",
       "      <td>...</td>\n",
       "      <td>...</td>\n",
       "    </tr>\n",
       "    <tr>\n",
       "      <th>ZXKXJHAOUFHNAS-FVGYRXGTSA-N</th>\n",
       "      <td>0.043478</td>\n",
       "      <td>0.125000</td>\n",
       "      <td>0.000000</td>\n",
       "      <td>0.250000</td>\n",
       "      <td>0.000000</td>\n",
       "      <td>0.041667</td>\n",
       "      <td>0.035714</td>\n",
       "      <td>0.034483</td>\n",
       "      <td>0.062500</td>\n",
       "      <td>0.000000</td>\n",
       "      <td>...</td>\n",
       "      <td>0.000000</td>\n",
       "      <td>0.00</td>\n",
       "      <td>0.083333</td>\n",
       "      <td>0.222222</td>\n",
       "      <td>0.000000</td>\n",
       "      <td>0.000000</td>\n",
       "      <td>0.000000</td>\n",
       "      <td>0.125000</td>\n",
       "      <td>0.111111</td>\n",
       "      <td>0.047619</td>\n",
       "    </tr>\n",
       "    <tr>\n",
       "      <th>ZXNRTKGTQJPIJK-UHFFFAOYSA-N</th>\n",
       "      <td>0.000000</td>\n",
       "      <td>0.000000</td>\n",
       "      <td>0.000000</td>\n",
       "      <td>0.250000</td>\n",
       "      <td>0.040000</td>\n",
       "      <td>0.041667</td>\n",
       "      <td>0.035714</td>\n",
       "      <td>0.000000</td>\n",
       "      <td>0.000000</td>\n",
       "      <td>0.000000</td>\n",
       "      <td>...</td>\n",
       "      <td>0.100000</td>\n",
       "      <td>0.00</td>\n",
       "      <td>0.083333</td>\n",
       "      <td>0.000000</td>\n",
       "      <td>0.100000</td>\n",
       "      <td>0.000000</td>\n",
       "      <td>0.000000</td>\n",
       "      <td>0.125000</td>\n",
       "      <td>0.000000</td>\n",
       "      <td>0.047619</td>\n",
       "    </tr>\n",
       "    <tr>\n",
       "      <th>ZYSCHNVPUOSLNC-BTJKTKAUSA-N</th>\n",
       "      <td>0.035714</td>\n",
       "      <td>0.076923</td>\n",
       "      <td>0.000000</td>\n",
       "      <td>0.250000</td>\n",
       "      <td>0.000000</td>\n",
       "      <td>0.071429</td>\n",
       "      <td>0.096774</td>\n",
       "      <td>0.060606</td>\n",
       "      <td>0.047619</td>\n",
       "      <td>0.000000</td>\n",
       "      <td>...</td>\n",
       "      <td>0.066667</td>\n",
       "      <td>0.00</td>\n",
       "      <td>0.125000</td>\n",
       "      <td>0.066667</td>\n",
       "      <td>0.142857</td>\n",
       "      <td>0.125000</td>\n",
       "      <td>0.125000</td>\n",
       "      <td>0.000000</td>\n",
       "      <td>0.153846</td>\n",
       "      <td>0.125000</td>\n",
       "    </tr>\n",
       "    <tr>\n",
       "      <th>ZZORFUFYDOWNEF-UHFFFAOYSA-N</th>\n",
       "      <td>0.034483</td>\n",
       "      <td>0.250000</td>\n",
       "      <td>0.111111</td>\n",
       "      <td>0.100000</td>\n",
       "      <td>0.066667</td>\n",
       "      <td>0.033333</td>\n",
       "      <td>0.060606</td>\n",
       "      <td>0.028571</td>\n",
       "      <td>0.095238</td>\n",
       "      <td>0.090909</td>\n",
       "      <td>...</td>\n",
       "      <td>0.000000</td>\n",
       "      <td>0.00</td>\n",
       "      <td>0.117647</td>\n",
       "      <td>0.062500</td>\n",
       "      <td>0.133333</td>\n",
       "      <td>0.111111</td>\n",
       "      <td>0.000000</td>\n",
       "      <td>0.153846</td>\n",
       "      <td>0.000000</td>\n",
       "      <td>0.037037</td>\n",
       "    </tr>\n",
       "    <tr>\n",
       "      <th>ZZUFCTLCJUWOSV-UHFFFAOYSA-N</th>\n",
       "      <td>0.200000</td>\n",
       "      <td>0.080000</td>\n",
       "      <td>0.000000</td>\n",
       "      <td>0.095238</td>\n",
       "      <td>0.128205</td>\n",
       "      <td>0.102564</td>\n",
       "      <td>0.068182</td>\n",
       "      <td>0.090909</td>\n",
       "      <td>0.060606</td>\n",
       "      <td>0.058824</td>\n",
       "      <td>...</td>\n",
       "      <td>0.000000</td>\n",
       "      <td>0.00</td>\n",
       "      <td>0.033333</td>\n",
       "      <td>0.035714</td>\n",
       "      <td>0.035714</td>\n",
       "      <td>0.047619</td>\n",
       "      <td>0.047619</td>\n",
       "      <td>0.125000</td>\n",
       "      <td>0.037037</td>\n",
       "      <td>0.000000</td>\n",
       "    </tr>\n",
       "  </tbody>\n",
       "</table>\n",
       "<p>1259 rows × 1259 columns</p>\n",
       "</div>"
      ],
      "text/plain": [
       "                             AADCDMQTJNYOSS-LBPRGKRZSA-N  \\\n",
       "AADCDMQTJNYOSS-LBPRGKRZSA-N                     0.000000   \n",
       "AAFNEINEQRQMTF-LREBCSMRSA-N                     0.035714   \n",
       "ABTXGJFUQRCPNH-UHFFFAOYSA-N                     0.000000   \n",
       "ACGDKVXYNVEAGU-UHFFFAOYSA-N                     0.086957   \n",
       "ACGUYXCXAPNIKK-UHFFFAOYSA-N                     0.150000   \n",
       "...                                                  ...   \n",
       "ZXKXJHAOUFHNAS-FVGYRXGTSA-N                     0.043478   \n",
       "ZXNRTKGTQJPIJK-UHFFFAOYSA-N                     0.000000   \n",
       "ZYSCHNVPUOSLNC-BTJKTKAUSA-N                     0.035714   \n",
       "ZZORFUFYDOWNEF-UHFFFAOYSA-N                     0.034483   \n",
       "ZZUFCTLCJUWOSV-UHFFFAOYSA-N                     0.200000   \n",
       "\n",
       "                             AAFNEINEQRQMTF-LREBCSMRSA-N  \\\n",
       "AADCDMQTJNYOSS-LBPRGKRZSA-N                     0.035714   \n",
       "AAFNEINEQRQMTF-LREBCSMRSA-N                     0.000000   \n",
       "ABTXGJFUQRCPNH-UHFFFAOYSA-N                     0.000000   \n",
       "ACGDKVXYNVEAGU-UHFFFAOYSA-N                     0.111111   \n",
       "ACGUYXCXAPNIKK-UHFFFAOYSA-N                     0.068966   \n",
       "...                                                  ...   \n",
       "ZXKXJHAOUFHNAS-FVGYRXGTSA-N                     0.125000   \n",
       "ZXNRTKGTQJPIJK-UHFFFAOYSA-N                     0.000000   \n",
       "ZYSCHNVPUOSLNC-BTJKTKAUSA-N                     0.076923   \n",
       "ZZORFUFYDOWNEF-UHFFFAOYSA-N                     0.250000   \n",
       "ZZUFCTLCJUWOSV-UHFFFAOYSA-N                     0.080000   \n",
       "\n",
       "                             ABTXGJFUQRCPNH-UHFFFAOYSA-N  \\\n",
       "AADCDMQTJNYOSS-LBPRGKRZSA-N                     0.000000   \n",
       "AAFNEINEQRQMTF-LREBCSMRSA-N                     0.000000   \n",
       "ABTXGJFUQRCPNH-UHFFFAOYSA-N                     0.000000   \n",
       "ACGDKVXYNVEAGU-UHFFFAOYSA-N                     0.000000   \n",
       "ACGUYXCXAPNIKK-UHFFFAOYSA-N                     0.000000   \n",
       "...                                                  ...   \n",
       "ZXKXJHAOUFHNAS-FVGYRXGTSA-N                     0.000000   \n",
       "ZXNRTKGTQJPIJK-UHFFFAOYSA-N                     0.000000   \n",
       "ZYSCHNVPUOSLNC-BTJKTKAUSA-N                     0.000000   \n",
       "ZZORFUFYDOWNEF-UHFFFAOYSA-N                     0.111111   \n",
       "ZZUFCTLCJUWOSV-UHFFFAOYSA-N                     0.000000   \n",
       "\n",
       "                             ACGDKVXYNVEAGU-UHFFFAOYSA-N  \\\n",
       "AADCDMQTJNYOSS-LBPRGKRZSA-N                     0.086957   \n",
       "AAFNEINEQRQMTF-LREBCSMRSA-N                     0.111111   \n",
       "ABTXGJFUQRCPNH-UHFFFAOYSA-N                     0.000000   \n",
       "ACGDKVXYNVEAGU-UHFFFAOYSA-N                     0.000000   \n",
       "ACGUYXCXAPNIKK-UHFFFAOYSA-N                     0.000000   \n",
       "...                                                  ...   \n",
       "ZXKXJHAOUFHNAS-FVGYRXGTSA-N                     0.250000   \n",
       "ZXNRTKGTQJPIJK-UHFFFAOYSA-N                     0.250000   \n",
       "ZYSCHNVPUOSLNC-BTJKTKAUSA-N                     0.250000   \n",
       "ZZORFUFYDOWNEF-UHFFFAOYSA-N                     0.100000   \n",
       "ZZUFCTLCJUWOSV-UHFFFAOYSA-N                     0.095238   \n",
       "\n",
       "                             ACGUYXCXAPNIKK-UHFFFAOYSA-N  \\\n",
       "AADCDMQTJNYOSS-LBPRGKRZSA-N                     0.150000   \n",
       "AAFNEINEQRQMTF-LREBCSMRSA-N                     0.068966   \n",
       "ABTXGJFUQRCPNH-UHFFFAOYSA-N                     0.000000   \n",
       "ACGDKVXYNVEAGU-UHFFFAOYSA-N                     0.000000   \n",
       "ACGUYXCXAPNIKK-UHFFFAOYSA-N                     0.000000   \n",
       "...                                                  ...   \n",
       "ZXKXJHAOUFHNAS-FVGYRXGTSA-N                     0.000000   \n",
       "ZXNRTKGTQJPIJK-UHFFFAOYSA-N                     0.040000   \n",
       "ZYSCHNVPUOSLNC-BTJKTKAUSA-N                     0.000000   \n",
       "ZZORFUFYDOWNEF-UHFFFAOYSA-N                     0.066667   \n",
       "ZZUFCTLCJUWOSV-UHFFFAOYSA-N                     0.128205   \n",
       "\n",
       "                             ACTOXUHEUCPTEW-OBURPCBNSA-N  \\\n",
       "AADCDMQTJNYOSS-LBPRGKRZSA-N                     0.125000   \n",
       "AAFNEINEQRQMTF-LREBCSMRSA-N                     0.000000   \n",
       "ABTXGJFUQRCPNH-UHFFFAOYSA-N                     0.041667   \n",
       "ACGDKVXYNVEAGU-UHFFFAOYSA-N                     0.083333   \n",
       "ACGUYXCXAPNIKK-UHFFFAOYSA-N                     0.119048   \n",
       "...                                                  ...   \n",
       "ZXKXJHAOUFHNAS-FVGYRXGTSA-N                     0.041667   \n",
       "ZXNRTKGTQJPIJK-UHFFFAOYSA-N                     0.041667   \n",
       "ZYSCHNVPUOSLNC-BTJKTKAUSA-N                     0.071429   \n",
       "ZZORFUFYDOWNEF-UHFFFAOYSA-N                     0.033333   \n",
       "ZZUFCTLCJUWOSV-UHFFFAOYSA-N                     0.102564   \n",
       "\n",
       "                             ACWBQPMHZXGDFX-QFIPXVFZSA-N  \\\n",
       "AADCDMQTJNYOSS-LBPRGKRZSA-N                     0.166667   \n",
       "AAFNEINEQRQMTF-LREBCSMRSA-N                     0.062500   \n",
       "ABTXGJFUQRCPNH-UHFFFAOYSA-N                     0.000000   \n",
       "ACGDKVXYNVEAGU-UHFFFAOYSA-N                     0.034483   \n",
       "ACGUYXCXAPNIKK-UHFFFAOYSA-N                     0.133333   \n",
       "...                                                  ...   \n",
       "ZXKXJHAOUFHNAS-FVGYRXGTSA-N                     0.035714   \n",
       "ZXNRTKGTQJPIJK-UHFFFAOYSA-N                     0.035714   \n",
       "ZYSCHNVPUOSLNC-BTJKTKAUSA-N                     0.096774   \n",
       "ZZORFUFYDOWNEF-UHFFFAOYSA-N                     0.060606   \n",
       "ZZUFCTLCJUWOSV-UHFFFAOYSA-N                     0.068182   \n",
       "\n",
       "                             AEOCXXJPGCBFJA-UHFFFAOYSA-N  \\\n",
       "AADCDMQTJNYOSS-LBPRGKRZSA-N                     0.136364   \n",
       "AAFNEINEQRQMTF-LREBCSMRSA-N                     0.000000   \n",
       "ABTXGJFUQRCPNH-UHFFFAOYSA-N                     0.000000   \n",
       "ACGDKVXYNVEAGU-UHFFFAOYSA-N                     0.000000   \n",
       "ACGUYXCXAPNIKK-UHFFFAOYSA-N                     0.106383   \n",
       "...                                                  ...   \n",
       "ZXKXJHAOUFHNAS-FVGYRXGTSA-N                     0.034483   \n",
       "ZXNRTKGTQJPIJK-UHFFFAOYSA-N                     0.000000   \n",
       "ZYSCHNVPUOSLNC-BTJKTKAUSA-N                     0.060606   \n",
       "ZZORFUFYDOWNEF-UHFFFAOYSA-N                     0.028571   \n",
       "ZZUFCTLCJUWOSV-UHFFFAOYSA-N                     0.090909   \n",
       "\n",
       "                             AEUTYOVWOVBAKS-UWVGGRQHSA-N  \\\n",
       "AADCDMQTJNYOSS-LBPRGKRZSA-N                     0.193548   \n",
       "AAFNEINEQRQMTF-LREBCSMRSA-N                     0.047619   \n",
       "ABTXGJFUQRCPNH-UHFFFAOYSA-N                     0.062500   \n",
       "ACGDKVXYNVEAGU-UHFFFAOYSA-N                     0.000000   \n",
       "ACGUYXCXAPNIKK-UHFFFAOYSA-N                     0.114286   \n",
       "...                                                  ...   \n",
       "ZXKXJHAOUFHNAS-FVGYRXGTSA-N                     0.062500   \n",
       "ZXNRTKGTQJPIJK-UHFFFAOYSA-N                     0.000000   \n",
       "ZYSCHNVPUOSLNC-BTJKTKAUSA-N                     0.047619   \n",
       "ZZORFUFYDOWNEF-UHFFFAOYSA-N                     0.095238   \n",
       "ZZUFCTLCJUWOSV-UHFFFAOYSA-N                     0.060606   \n",
       "\n",
       "                             AFJCNBBHEVLGCZ-UHFFFAOYSA-N  ...  \\\n",
       "AADCDMQTJNYOSS-LBPRGKRZSA-N                     0.151515  ...   \n",
       "AAFNEINEQRQMTF-LREBCSMRSA-N                     0.045455  ...   \n",
       "ABTXGJFUQRCPNH-UHFFFAOYSA-N                     0.058824  ...   \n",
       "ACGDKVXYNVEAGU-UHFFFAOYSA-N                     0.000000  ...   \n",
       "ACGUYXCXAPNIKK-UHFFFAOYSA-N                     0.290323  ...   \n",
       "...                                                  ...  ...   \n",
       "ZXKXJHAOUFHNAS-FVGYRXGTSA-N                     0.000000  ...   \n",
       "ZXNRTKGTQJPIJK-UHFFFAOYSA-N                     0.000000  ...   \n",
       "ZYSCHNVPUOSLNC-BTJKTKAUSA-N                     0.000000  ...   \n",
       "ZZORFUFYDOWNEF-UHFFFAOYSA-N                     0.090909  ...   \n",
       "ZZUFCTLCJUWOSV-UHFFFAOYSA-N                     0.058824  ...   \n",
       "\n",
       "                             ZUFQODAHGAHPFQ-UHFFFAOYSA-N  \\\n",
       "AADCDMQTJNYOSS-LBPRGKRZSA-N                     0.107143   \n",
       "AAFNEINEQRQMTF-LREBCSMRSA-N                     0.000000   \n",
       "ABTXGJFUQRCPNH-UHFFFAOYSA-N                     0.000000   \n",
       "ACGDKVXYNVEAGU-UHFFFAOYSA-N                     0.000000   \n",
       "ACGUYXCXAPNIKK-UHFFFAOYSA-N                     0.064516   \n",
       "...                                                  ...   \n",
       "ZXKXJHAOUFHNAS-FVGYRXGTSA-N                     0.000000   \n",
       "ZXNRTKGTQJPIJK-UHFFFAOYSA-N                     0.100000   \n",
       "ZYSCHNVPUOSLNC-BTJKTKAUSA-N                     0.066667   \n",
       "ZZORFUFYDOWNEF-UHFFFAOYSA-N                     0.000000   \n",
       "ZZUFCTLCJUWOSV-UHFFFAOYSA-N                     0.000000   \n",
       "\n",
       "                             ZUFVXZVXEJHHBN-UHFFFAOYSA-N  \\\n",
       "AADCDMQTJNYOSS-LBPRGKRZSA-N                         0.00   \n",
       "AAFNEINEQRQMTF-LREBCSMRSA-N                         0.00   \n",
       "ABTXGJFUQRCPNH-UHFFFAOYSA-N                         0.00   \n",
       "ACGDKVXYNVEAGU-UHFFFAOYSA-N                         0.00   \n",
       "ACGUYXCXAPNIKK-UHFFFAOYSA-N                         0.04   \n",
       "...                                                  ...   \n",
       "ZXKXJHAOUFHNAS-FVGYRXGTSA-N                         0.00   \n",
       "ZXNRTKGTQJPIJK-UHFFFAOYSA-N                         0.00   \n",
       "ZYSCHNVPUOSLNC-BTJKTKAUSA-N                         0.00   \n",
       "ZZORFUFYDOWNEF-UHFFFAOYSA-N                         0.00   \n",
       "ZZUFCTLCJUWOSV-UHFFFAOYSA-N                         0.00   \n",
       "\n",
       "                             ZUXNZUWOTSUBMN-UHFFFAOYSA-N  \\\n",
       "AADCDMQTJNYOSS-LBPRGKRZSA-N                     0.100000   \n",
       "AAFNEINEQRQMTF-LREBCSMRSA-N                     0.058824   \n",
       "ABTXGJFUQRCPNH-UHFFFAOYSA-N                     0.181818   \n",
       "ACGDKVXYNVEAGU-UHFFFAOYSA-N                     0.076923   \n",
       "ACGUYXCXAPNIKK-UHFFFAOYSA-N                     0.029412   \n",
       "...                                                  ...   \n",
       "ZXKXJHAOUFHNAS-FVGYRXGTSA-N                     0.083333   \n",
       "ZXNRTKGTQJPIJK-UHFFFAOYSA-N                     0.083333   \n",
       "ZYSCHNVPUOSLNC-BTJKTKAUSA-N                     0.125000   \n",
       "ZZORFUFYDOWNEF-UHFFFAOYSA-N                     0.117647   \n",
       "ZZUFCTLCJUWOSV-UHFFFAOYSA-N                     0.033333   \n",
       "\n",
       "                             ZWBTYMGEBZUQTK-PVLSIAFMSA-N  \\\n",
       "AADCDMQTJNYOSS-LBPRGKRZSA-N                     0.107143   \n",
       "AAFNEINEQRQMTF-LREBCSMRSA-N                     0.066667   \n",
       "ABTXGJFUQRCPNH-UHFFFAOYSA-N                     0.100000   \n",
       "ACGDKVXYNVEAGU-UHFFFAOYSA-N                     0.090909   \n",
       "ACGUYXCXAPNIKK-UHFFFAOYSA-N                     0.064516   \n",
       "...                                                  ...   \n",
       "ZXKXJHAOUFHNAS-FVGYRXGTSA-N                     0.222222   \n",
       "ZXNRTKGTQJPIJK-UHFFFAOYSA-N                     0.000000   \n",
       "ZYSCHNVPUOSLNC-BTJKTKAUSA-N                     0.066667   \n",
       "ZZORFUFYDOWNEF-UHFFFAOYSA-N                     0.062500   \n",
       "ZZUFCTLCJUWOSV-UHFFFAOYSA-N                     0.035714   \n",
       "\n",
       "                             ZWZIQPOLMDPIQM-UHFFFAOYSA-N  \\\n",
       "AADCDMQTJNYOSS-LBPRGKRZSA-N                     0.000000   \n",
       "AAFNEINEQRQMTF-LREBCSMRSA-N                     0.230769   \n",
       "ABTXGJFUQRCPNH-UHFFFAOYSA-N                     0.100000   \n",
       "ACGDKVXYNVEAGU-UHFFFAOYSA-N                     0.090909   \n",
       "ACGUYXCXAPNIKK-UHFFFAOYSA-N                     0.064516   \n",
       "...                                                  ...   \n",
       "ZXKXJHAOUFHNAS-FVGYRXGTSA-N                     0.000000   \n",
       "ZXNRTKGTQJPIJK-UHFFFAOYSA-N                     0.100000   \n",
       "ZYSCHNVPUOSLNC-BTJKTKAUSA-N                     0.142857   \n",
       "ZZORFUFYDOWNEF-UHFFFAOYSA-N                     0.133333   \n",
       "ZZUFCTLCJUWOSV-UHFFFAOYSA-N                     0.035714   \n",
       "\n",
       "                             ZXKXJHAOUFHNAS-FVGYRXGTSA-N  \\\n",
       "AADCDMQTJNYOSS-LBPRGKRZSA-N                     0.043478   \n",
       "AAFNEINEQRQMTF-LREBCSMRSA-N                     0.125000   \n",
       "ABTXGJFUQRCPNH-UHFFFAOYSA-N                     0.000000   \n",
       "ACGDKVXYNVEAGU-UHFFFAOYSA-N                     0.250000   \n",
       "ACGUYXCXAPNIKK-UHFFFAOYSA-N                     0.000000   \n",
       "...                                                  ...   \n",
       "ZXKXJHAOUFHNAS-FVGYRXGTSA-N                     0.000000   \n",
       "ZXNRTKGTQJPIJK-UHFFFAOYSA-N                     0.000000   \n",
       "ZYSCHNVPUOSLNC-BTJKTKAUSA-N                     0.125000   \n",
       "ZZORFUFYDOWNEF-UHFFFAOYSA-N                     0.111111   \n",
       "ZZUFCTLCJUWOSV-UHFFFAOYSA-N                     0.047619   \n",
       "\n",
       "                             ZXNRTKGTQJPIJK-UHFFFAOYSA-N  \\\n",
       "AADCDMQTJNYOSS-LBPRGKRZSA-N                     0.000000   \n",
       "AAFNEINEQRQMTF-LREBCSMRSA-N                     0.000000   \n",
       "ABTXGJFUQRCPNH-UHFFFAOYSA-N                     0.000000   \n",
       "ACGDKVXYNVEAGU-UHFFFAOYSA-N                     0.250000   \n",
       "ACGUYXCXAPNIKK-UHFFFAOYSA-N                     0.040000   \n",
       "...                                                  ...   \n",
       "ZXKXJHAOUFHNAS-FVGYRXGTSA-N                     0.000000   \n",
       "ZXNRTKGTQJPIJK-UHFFFAOYSA-N                     0.000000   \n",
       "ZYSCHNVPUOSLNC-BTJKTKAUSA-N                     0.125000   \n",
       "ZZORFUFYDOWNEF-UHFFFAOYSA-N                     0.000000   \n",
       "ZZUFCTLCJUWOSV-UHFFFAOYSA-N                     0.047619   \n",
       "\n",
       "                             ZYSCHNVPUOSLNC-BTJKTKAUSA-N  \\\n",
       "AADCDMQTJNYOSS-LBPRGKRZSA-N                     0.035714   \n",
       "AAFNEINEQRQMTF-LREBCSMRSA-N                     0.076923   \n",
       "ABTXGJFUQRCPNH-UHFFFAOYSA-N                     0.000000   \n",
       "ACGDKVXYNVEAGU-UHFFFAOYSA-N                     0.250000   \n",
       "ACGUYXCXAPNIKK-UHFFFAOYSA-N                     0.000000   \n",
       "...                                                  ...   \n",
       "ZXKXJHAOUFHNAS-FVGYRXGTSA-N                     0.125000   \n",
       "ZXNRTKGTQJPIJK-UHFFFAOYSA-N                     0.125000   \n",
       "ZYSCHNVPUOSLNC-BTJKTKAUSA-N                     0.000000   \n",
       "ZZORFUFYDOWNEF-UHFFFAOYSA-N                     0.153846   \n",
       "ZZUFCTLCJUWOSV-UHFFFAOYSA-N                     0.125000   \n",
       "\n",
       "                             ZZORFUFYDOWNEF-UHFFFAOYSA-N  \\\n",
       "AADCDMQTJNYOSS-LBPRGKRZSA-N                     0.034483   \n",
       "AAFNEINEQRQMTF-LREBCSMRSA-N                     0.250000   \n",
       "ABTXGJFUQRCPNH-UHFFFAOYSA-N                     0.111111   \n",
       "ACGDKVXYNVEAGU-UHFFFAOYSA-N                     0.100000   \n",
       "ACGUYXCXAPNIKK-UHFFFAOYSA-N                     0.066667   \n",
       "...                                                  ...   \n",
       "ZXKXJHAOUFHNAS-FVGYRXGTSA-N                     0.111111   \n",
       "ZXNRTKGTQJPIJK-UHFFFAOYSA-N                     0.000000   \n",
       "ZYSCHNVPUOSLNC-BTJKTKAUSA-N                     0.153846   \n",
       "ZZORFUFYDOWNEF-UHFFFAOYSA-N                     0.000000   \n",
       "ZZUFCTLCJUWOSV-UHFFFAOYSA-N                     0.037037   \n",
       "\n",
       "                             ZZUFCTLCJUWOSV-UHFFFAOYSA-N  \n",
       "AADCDMQTJNYOSS-LBPRGKRZSA-N                     0.200000  \n",
       "AAFNEINEQRQMTF-LREBCSMRSA-N                     0.080000  \n",
       "ABTXGJFUQRCPNH-UHFFFAOYSA-N                     0.000000  \n",
       "ACGDKVXYNVEAGU-UHFFFAOYSA-N                     0.095238  \n",
       "ACGUYXCXAPNIKK-UHFFFAOYSA-N                     0.128205  \n",
       "...                                                  ...  \n",
       "ZXKXJHAOUFHNAS-FVGYRXGTSA-N                     0.047619  \n",
       "ZXNRTKGTQJPIJK-UHFFFAOYSA-N                     0.047619  \n",
       "ZYSCHNVPUOSLNC-BTJKTKAUSA-N                     0.125000  \n",
       "ZZORFUFYDOWNEF-UHFFFAOYSA-N                     0.037037  \n",
       "ZZUFCTLCJUWOSV-UHFFFAOYSA-N                     0.000000  \n",
       "\n",
       "[1259 rows x 1259 columns]"
      ]
     },
     "execution_count": 16,
     "metadata": {},
     "output_type": "execute_result"
    }
   ],
   "source": [
    "df2"
   ]
  },
  {
   "cell_type": "code",
   "execution_count": 31,
   "id": "13755859",
   "metadata": {},
   "outputs": [
    {
     "name": "stderr",
     "output_type": "stream",
     "text": [
      "/home/nkurzawa/miniconda3/envs/sign/lib/python3.7/site-packages/seaborn/distributions.py:2619: FutureWarning: `distplot` is a deprecated function and will be removed in a future version. Please adapt your code to use either `displot` (a figure-level function with similar flexibility) or `histplot` (an axes-level function for histograms).\n",
      "  warnings.warn(msg, FutureWarning)\n"
     ]
    },
    {
     "data": {
      "text/plain": [
       "<matplotlib.legend.Legend at 0x7efcc337ffd0>"
      ]
     },
     "execution_count": 31,
     "metadata": {},
     "output_type": "execute_result"
    },
    {
     "data": {
      "image/png": "[encoded data removed]",
      "text/plain": [
       "<Figure size 300x300 with 1 Axes>"
      ]
     },
     "metadata": {
      "needs_background": "light"
     },
     "output_type": "display_data"
    }
   ],
   "source": [
    "plt.figure(figsize=(3,3),dpi=100)\n",
    "sns.distplot(jc_similarities)\n",
    "\n",
    "colors = ['red','green']\n",
    "for pc, col in zip([60, 90],colors):\n",
    "    plt.axvline(np.percentile(jc_similarities, pc), label='P%i (%.2f)'%(pc,np.percentile(jc_similarities, pc)),\n",
    "               color=col)\n",
    "plt.legend()"
   ]
  },
  {
   "cell_type": "code",
   "execution_count": 18,
   "id": "8ffd54c7",
   "metadata": {},
   "outputs": [],
   "source": [
    "#--Defining parameters for triplets\n",
    "proportion = 0.05\n",
    "n_neigh = int(df2.shape[0]*proportion)\n",
    "min_jc =  np.percentile(jc_similarities, 60)\n",
    "high_jc = np.percentile(jc_similarities, 95)\n",
    "\n",
    "N_triplets = 1000000\n",
    "N_hard = 0.3\n",
    "N_soft = 1-N_hard\n",
    "#proporiton_uneffective = 0.25\n",
    "\n",
    "n_trip = int(np.round(1000000*N_soft/df2.shape[0]))\n",
    "n_hard_trip = int(np.round(1000000*N_hard/df2.shape[0]))\n",
    "#n_trip_uneffective = int(np.round(n_trip*proporiton_uneffective))\n",
    "#n_trip = int(n_trip - n_trip_uneffective)"
   ]
  },
  {
   "cell_type": "code",
   "execution_count": 19,
   "id": "19511568",
   "metadata": {},
   "outputs": [
    {
     "data": {
      "text/plain": [
       "<matplotlib.lines.Line2D at 0x7efce76e2bd0>"
      ]
     },
     "execution_count": 19,
     "metadata": {},
     "output_type": "execute_result"
    },
    {
     "data": {
      "image/png": "[encoded data removed]",
      "text/plain": [
       "<Figure size 432x288 with 1 Axes>"
      ]
     },
     "metadata": {
      "needs_background": "light"
     },
     "output_type": "display_data"
    }
   ],
   "source": [
    "sns.ecdfplot(df2.max())\n",
    "plt.axvline(np.percentile(jc_similarities, 60))"
   ]
  },
  {
   "cell_type": "code",
   "execution_count": 20,
   "id": "01ddfd92",
   "metadata": {},
   "outputs": [
    {
     "data": {
      "application/vnd.jupyter.widget-view+json": {
       "model_id": "765419ce849641f78d36b744daba37b6",
       "version_major": 2,
       "version_minor": 0
      },
      "text/plain": [
       "  0%|          | 0/1259 [00:00<?, ?it/s]"
      ]
     },
     "metadata": {},
     "output_type": "display_data"
    }
   ],
   "source": [
    "dgs = np.array(df2.columns)\n",
    "triplets = []\n",
    "hard_triplets = {0:[],1:[],2:[]}\n",
    "for ix,dg in tqdm(enumerate(df2.index.values), total=df2.shape[0]):\n",
    "    _triplets = []\n",
    "    _hard_triplets = {0:[],1:[],2:[]}\n",
    "    \n",
    "    #--Getting jaccard similarity  vector\n",
    "    v = np.array(df2.iloc[ix])\n",
    "    v[ix] = np.nan #masking itself\n",
    "  \n",
    "    #--Getting pos\n",
    "    ixs = np.where(v >= high_jc)[0]\n",
    "    if len(ixs) < n_neigh:\n",
    "        ixs = np.argsort(v)[::-1]\n",
    "        ixs = ixs[v[ixs] >= min_jc]\n",
    "        if len(ixs) == 0: continue\n",
    "        cutoff = v[ixs][min([n_neigh-1, len(ixs)-1])]\n",
    "        ixs = v >= cutoff\n",
    "        \n",
    "    neighs = dgs[ixs]\n",
    "    similarities = v[ixs]\n",
    "    probs = similarities / np.sum(similarities)\n",
    "    \n",
    "    #--Getting negs\n",
    "    #negs = np.array(list(set(dgs)-set(neighs))) \n",
    "    negs = np.array(list(set(dgs)-set(neighs.tolist()+[dg])))\n",
    "    \n",
    "    #--Getting triplets\n",
    "    \n",
    "    #----Negs\n",
    "    for _ in range(n_trip):\n",
    "        _triplets.append([dg,np.random.choice(neighs,p=probs), np.random.choice(negs)])\n",
    "    \n",
    "    \n",
    "    #for _ in range(n_trip_uneffective):\n",
    "    #    _triplets.append([dg,np.random.choice(neighs,p=probs), np.random.choice(uneffective)])\n",
    "  \n",
    "    #  for i, neg in enumerate(negs):\n",
    "  #      if i-norm == len(neighs):\n",
    "  #          norm+=len(neighs)\n",
    "  #      pos = neighs[i-norm]\n",
    " # \n",
    " #       _triplets.append([dg,pos,neg])\n",
    "  \n",
    "    triplets.extend(_triplets)\n",
    "    \n",
    "    #--Adding hard triplets\n",
    "    scores = np.unique(similarities)\n",
    "    cutoffs = np.unique([np.percentile(scores,pc) for pc in [0,25,50,75,100]]) #unique and sort\n",
    "    labels = np.arange(len(cutoffs))[:-1]\n",
    "    groups = np.array(pd.cut(similarities, cutoffs, labels=labels))\n",
    "    labels = [x for x in labels if x in groups]\n",
    "\n",
    "    if len(labels) > 1:\n",
    "        n_subhard = int(np.ceil(n_hard_trip/(len(labels)-1)))\n",
    "\n",
    "        hard_positives = neighs[groups == labels[-1]]\n",
    "        hard_probs = similarities[groups == labels[-1]]\n",
    "        hard_probs = hard_probs/np.sum(hard_probs)\n",
    "\n",
    "        for i in range(len(labels)-1):\n",
    "            hard_negatives =  neighs[groups == labels[i]]\n",
    "            assert len(set(hard_negatives) & set(hard_positives)) == 0\n",
    "            for _ in range(n_subhard):\n",
    "                _hard_triplets[labels[i]].append([dg,np.random.choice(hard_positives, p=hard_probs), np.random.choice(hard_negatives)])\n",
    "        \n",
    "    hard_triplets[0].extend(_hard_triplets[0])\n",
    "    hard_triplets[1].extend(_hard_triplets[1])\n",
    "    hard_triplets[2].extend(_hard_triplets[2])\n",
    "    \n",
    "    \n",
    "    #labels = [labels[0],labels[-1]] # Skiping Q2 and Q3, so the hard negative are Q1 and hard positives are Q4\n",
    "    #for i in range(len(labels)-1):\n",
    "    #    g1 = labels[i]\n",
    "    #    g2 = labels[i+1]\n",
    "    #    dg1 = dgs[ixs][groups==g1]\n",
    "    #    dg2 = dgs[ixs][groups==g2]\n",
    "    #    for hard_neg in dg1:\n",
    "    #        for hard_pos in dg2:\n",
    "    #            _hard_triplets.append([dg, hard_pos, hard_neg])\n",
    "                \n",
    "\n",
    "    #n_hard = int(len(_triplets)*proportion_hard_triplets)\n",
    "    #hard_triplets.extend(np.random.permutation(_hard_triplets)[:n_hard])\n",
    "    #hard_triplets.extend(np.rando,\n"
   ]
  },
  {
   "cell_type": "code",
   "execution_count": 21,
   "id": "d94f6d34",
   "metadata": {},
   "outputs": [
    {
     "data": {
      "text/plain": [
       "<matplotlib.legend.Legend at 0x7efccdd06d10>"
      ]
     },
     "execution_count": 21,
     "metadata": {},
     "output_type": "execute_result"
    },
    {
     "data": {
      "image/png": "[encoded data removed]",
      "text/plain": [
       "<Figure size 400x400 with 1 Axes>"
      ]
     },
     "metadata": {
      "needs_background": "light"
     },
     "output_type": "display_data"
    }
   ],
   "source": [
    "k = df2.melt(ignore_index=False).reset_index().values\n",
    "pair2score = dict(zip(zip(k[:,0],k[:,1]), k[:,2]))\n",
    "\n",
    "plt.figure(figsize=(4,4),dpi=100)\n",
    "\n",
    "#--triplets\n",
    "v = []\n",
    "#v2 = []\n",
    "for x in triplets:\n",
    "    pos =  x[0],x[1]\n",
    "    neg = x[0],x[2]\n",
    "    if pos in pair2score:\n",
    "        pos  = pair2score[pos]\n",
    "    else:\n",
    "        sys.exit()\n",
    "        \n",
    "    if neg in pair2score:\n",
    "        neg = pair2score[neg]\n",
    "        v.append(pos-neg)\n",
    "    else:\n",
    "        sys.exit()\n",
    "        #neg = 0  \n",
    "        #v2.append(pos-neg)\n",
    "        \n",
    "sns.ecdfplot(v, label='effective triplets')\n",
    "#sns.ecdfplot(v2, label='uneffective triplets')\n",
    "\n",
    "#--hard triplets\n",
    "for g in hard_triplets:\n",
    "    \n",
    "    v2 = []\n",
    "    for x in hard_triplets[g]:\n",
    "        pos =  x[0],x[1]\n",
    "        neg = x[0],x[2]\n",
    "        if pos in pair2score:\n",
    "            pos  = pair2score[pos]\n",
    "        else:\n",
    "            sys.exit()\n",
    "\n",
    "        if neg in pair2score:\n",
    "            neg = pair2score[neg]\n",
    "        else:\n",
    "            sys.exit()\n",
    "\n",
    "        v2.append(pos-neg)\n",
    "    \n",
    "    sns.ecdfplot(v2, label='hard_triplets (Q%i vs Q4)'%(g+1))\n",
    "\n",
    "\n",
    "plt.xlabel('pos-neg Jaccard')\n",
    "plt.legend()\n",
    "#plt.xlim(0,np.percentile(jc_similarities,99))"
   ]
  },
  {
   "cell_type": "code",
   "execution_count": 22,
   "id": "eb8f0626",
   "metadata": {},
   "outputs": [
    {
     "name": "stdout",
     "output_type": "stream",
     "text": [
      "triplets: 700004\n",
      "\t--> effective: 700004 (69.85)%\n",
      "\t--> uneffective: 0 (0.00)%\n",
      "hard triplets: 302154\n",
      "\t--> Q1 vs Q4: 100480 (10.03)%\n",
      "\t--> Q2 vs Q4: 100837 (10.06)%\n",
      "\t--> Q3 vs Q4: 100837 (10.06)%\n",
      "all triplets: 1002158\n"
     ]
    }
   ],
   "source": [
    "all_triplets = list(triplets)\n",
    "for g in list(hard_triplets):\n",
    "    all_triplets.extend(list(hard_triplets[g]))\n",
    "all_triplets = np.array(all_triplets)\n",
    "\n",
    "print('triplets: %i'%len(triplets))\n",
    "_uneffective = set(uneffective)\n",
    "easy = len([x for x in triplets if x[-1] in _uneffective])\n",
    "print('\\t--> effective: %i (%.2f)%%'%(len(triplets)-easy, (100*(len(triplets)-easy)/len(all_triplets))))\n",
    "print('\\t--> uneffective: %i (%.2f)%%'%(easy, 100*easy/len(all_triplets)))\n",
    "total_hard = np.sum([len(hard_triplets[g]) for g in hard_triplets])\n",
    "print('hard triplets: %i'%total_hard)\n",
    "for g in hard_triplets:\n",
    "    print('\\t--> Q%i vs Q4: %i (%.2f)%%'%(g+1, len(hard_triplets[g]),100*len(hard_triplets[g])/len(all_triplets)))\n",
    "print('all triplets: %i'%len(all_triplets))\n"
   ]
  },
  {
   "cell_type": "code",
   "execution_count": 23,
   "id": "acf1f255",
   "metadata": {},
   "outputs": [
    {
     "data": {
      "text/plain": [
       "<matplotlib.axes._subplots.AxesSubplot at 0x7efccdd2eb90>"
      ]
     },
     "execution_count": 23,
     "metadata": {},
     "output_type": "execute_result"
    },
    {
     "data": {
      "image/png": "[encoded data removed]",
      "text/plain": [
       "<Figure size 400x400 with 1 Axes>"
      ]
     },
     "metadata": {
      "needs_background": "light"
     },
     "output_type": "display_data"
    }
   ],
   "source": [
    "v = list(Counter(all_triplets[:,0]).values())\n",
    "\n",
    "plt.figure(figsize=(4,4),dpi=100)\n",
    "sns.ecdfplot(v)"
   ]
  },
  {
   "cell_type": "code",
   "execution_count": 24,
   "id": "b6953f77",
   "metadata": {},
   "outputs": [
    {
     "data": {
      "text/plain": [
       "<matplotlib.axes._subplots.AxesSubplot at 0x7efccdd4c890>"
      ]
     },
     "execution_count": 24,
     "metadata": {},
     "output_type": "execute_result"
    },
    {
     "data": {
      "image/png": "[encoded data removed]",
      "text/plain": [
       "<Figure size 400x400 with 1 Axes>"
      ]
     },
     "metadata": {
      "needs_background": "light"
     },
     "output_type": "display_data"
    }
   ],
   "source": [
    "v = list(Counter(all_triplets[:,1]).values())\n",
    "\n",
    "plt.figure(figsize=(4,4),dpi=100)\n",
    "sns.ecdfplot(v)"
   ]
  },
  {
   "cell_type": "code",
   "execution_count": 25,
   "id": "a9494979",
   "metadata": {},
   "outputs": [
    {
     "data": {
      "text/plain": [
       "<matplotlib.axes._subplots.AxesSubplot at 0x7efccf2d11d0>"
      ]
     },
     "execution_count": 25,
     "metadata": {},
     "output_type": "execute_result"
    },
    {
     "data": {
      "image/png": "[encoded data removed]",
      "text/plain": [
       "<Figure size 400x400 with 1 Axes>"
      ]
     },
     "metadata": {
      "needs_background": "light"
     },
     "output_type": "display_data"
    }
   ],
   "source": [
    "v = list(Counter(all_triplets[:,2]).values())\n",
    "\n",
    "plt.figure(figsize=(4,4),dpi=100)\n",
    "sns.ecdfplot(v)"
   ]
  },
  {
   "cell_type": "code",
   "execution_count": 26,
   "id": "be6b1488",
   "metadata": {},
   "outputs": [],
   "source": [
    "#Writing\n",
    "all_triplets = pd.DataFrame(all_triplets, columns=['anchor','pos','neg']).sort_values(['anchor','pos','neg']).reset_index(drop=True)\n",
    "all_triplets.to_csv('./m2_full_pca_triplets.tsv.gz', sep='\\t', index=False, compression='gzip')"
   ]
  },
  {
   "cell_type": "code",
   "execution_count": 27,
   "id": "7ebd092f",
   "metadata": {},
   "outputs": [
    {
     "data": {
      "text/html": [
       "<div>\n",
       "<style scoped>\n",
       "    .dataframe tbody tr th:only-of-type {\n",
       "        vertical-align: middle;\n",
       "    }\n",
       "\n",
       "    .dataframe tbody tr th {\n",
       "        vertical-align: top;\n",
       "    }\n",
       "\n",
       "    .dataframe thead th {\n",
       "        text-align: right;\n",
       "    }\n",
       "</style>\n",
       "<table border=\"1\" class=\"dataframe\">\n",
       "  <thead>\n",
       "    <tr style=\"text-align: right;\">\n",
       "      <th></th>\n",
       "      <th>anchor</th>\n",
       "      <th>pos</th>\n",
       "      <th>neg</th>\n",
       "    </tr>\n",
       "  </thead>\n",
       "  <tbody>\n",
       "    <tr>\n",
       "      <th>0</th>\n",
       "      <td>AADCDMQTJNYOSS-LBPRGKRZSA-N</td>\n",
       "      <td>AEUTYOVWOVBAKS-UWVGGRQHSA-N</td>\n",
       "      <td>GECHUMIMRBOMGK-UHFFFAOYSA-N</td>\n",
       "    </tr>\n",
       "    <tr>\n",
       "      <th>1</th>\n",
       "      <td>AADCDMQTJNYOSS-LBPRGKRZSA-N</td>\n",
       "      <td>AEUTYOVWOVBAKS-UWVGGRQHSA-N</td>\n",
       "      <td>NZMOFYDMGFQZLS-UHFFFAOYSA-N</td>\n",
       "    </tr>\n",
       "    <tr>\n",
       "      <th>2</th>\n",
       "      <td>AADCDMQTJNYOSS-LBPRGKRZSA-N</td>\n",
       "      <td>AEUTYOVWOVBAKS-UWVGGRQHSA-N</td>\n",
       "      <td>PJLVTVAIERNDEQ-BTJKTKAUSA-N</td>\n",
       "    </tr>\n",
       "    <tr>\n",
       "      <th>3</th>\n",
       "      <td>AADCDMQTJNYOSS-LBPRGKRZSA-N</td>\n",
       "      <td>AEUTYOVWOVBAKS-UWVGGRQHSA-N</td>\n",
       "      <td>VKJHTUVLJYWAEY-UHFFFAOYSA-N</td>\n",
       "    </tr>\n",
       "    <tr>\n",
       "      <th>4</th>\n",
       "      <td>AADCDMQTJNYOSS-LBPRGKRZSA-N</td>\n",
       "      <td>AEUTYOVWOVBAKS-UWVGGRQHSA-N</td>\n",
       "      <td>WAOQONBSWFLFPE-SECBINFHSA-N</td>\n",
       "    </tr>\n",
       "    <tr>\n",
       "      <th>...</th>\n",
       "      <td>...</td>\n",
       "      <td>...</td>\n",
       "      <td>...</td>\n",
       "    </tr>\n",
       "    <tr>\n",
       "      <th>1002153</th>\n",
       "      <td>ZZUFCTLCJUWOSV-UHFFFAOYSA-N</td>\n",
       "      <td>ZRVUJXDFFKFLMG-UHFFFAOYSA-N</td>\n",
       "      <td>RZVAJINKPMORJF-UHFFFAOYSA-N</td>\n",
       "    </tr>\n",
       "    <tr>\n",
       "      <th>1002154</th>\n",
       "      <td>ZZUFCTLCJUWOSV-UHFFFAOYSA-N</td>\n",
       "      <td>ZRVUJXDFFKFLMG-UHFFFAOYSA-N</td>\n",
       "      <td>SPFVHFBNXPARTR-IDMXKUIJSA-N</td>\n",
       "    </tr>\n",
       "    <tr>\n",
       "      <th>1002155</th>\n",
       "      <td>ZZUFCTLCJUWOSV-UHFFFAOYSA-N</td>\n",
       "      <td>ZRVUJXDFFKFLMG-UHFFFAOYSA-N</td>\n",
       "      <td>XGBFWQUQYQIFLB-MTTMTQIXSA-N</td>\n",
       "    </tr>\n",
       "    <tr>\n",
       "      <th>1002156</th>\n",
       "      <td>ZZUFCTLCJUWOSV-UHFFFAOYSA-N</td>\n",
       "      <td>ZRVUJXDFFKFLMG-UHFFFAOYSA-N</td>\n",
       "      <td>YVPYQUNUQOZFHG-UHFFFAOYSA-N</td>\n",
       "    </tr>\n",
       "    <tr>\n",
       "      <th>1002157</th>\n",
       "      <td>ZZUFCTLCJUWOSV-UHFFFAOYSA-N</td>\n",
       "      <td>ZRVUJXDFFKFLMG-UHFFFAOYSA-N</td>\n",
       "      <td>ZXKXJHAOUFHNAS-FVGYRXGTSA-N</td>\n",
       "    </tr>\n",
       "  </tbody>\n",
       "</table>\n",
       "<p>1002158 rows × 3 columns</p>\n",
       "</div>"
      ],
      "text/plain": [
       "                              anchor                          pos  \\\n",
       "0        AADCDMQTJNYOSS-LBPRGKRZSA-N  AEUTYOVWOVBAKS-UWVGGRQHSA-N   \n",
       "1        AADCDMQTJNYOSS-LBPRGKRZSA-N  AEUTYOVWOVBAKS-UWVGGRQHSA-N   \n",
       "2        AADCDMQTJNYOSS-LBPRGKRZSA-N  AEUTYOVWOVBAKS-UWVGGRQHSA-N   \n",
       "3        AADCDMQTJNYOSS-LBPRGKRZSA-N  AEUTYOVWOVBAKS-UWVGGRQHSA-N   \n",
       "4        AADCDMQTJNYOSS-LBPRGKRZSA-N  AEUTYOVWOVBAKS-UWVGGRQHSA-N   \n",
       "...                              ...                          ...   \n",
       "1002153  ZZUFCTLCJUWOSV-UHFFFAOYSA-N  ZRVUJXDFFKFLMG-UHFFFAOYSA-N   \n",
       "1002154  ZZUFCTLCJUWOSV-UHFFFAOYSA-N  ZRVUJXDFFKFLMG-UHFFFAOYSA-N   \n",
       "1002155  ZZUFCTLCJUWOSV-UHFFFAOYSA-N  ZRVUJXDFFKFLMG-UHFFFAOYSA-N   \n",
       "1002156  ZZUFCTLCJUWOSV-UHFFFAOYSA-N  ZRVUJXDFFKFLMG-UHFFFAOYSA-N   \n",
       "1002157  ZZUFCTLCJUWOSV-UHFFFAOYSA-N  ZRVUJXDFFKFLMG-UHFFFAOYSA-N   \n",
       "\n",
       "                                 neg  \n",
       "0        GECHUMIMRBOMGK-UHFFFAOYSA-N  \n",
       "1        NZMOFYDMGFQZLS-UHFFFAOYSA-N  \n",
       "2        PJLVTVAIERNDEQ-BTJKTKAUSA-N  \n",
       "3        VKJHTUVLJYWAEY-UHFFFAOYSA-N  \n",
       "4        WAOQONBSWFLFPE-SECBINFHSA-N  \n",
       "...                              ...  \n",
       "1002153  RZVAJINKPMORJF-UHFFFAOYSA-N  \n",
       "1002154  SPFVHFBNXPARTR-IDMXKUIJSA-N  \n",
       "1002155  XGBFWQUQYQIFLB-MTTMTQIXSA-N  \n",
       "1002156  YVPYQUNUQOZFHG-UHFFFAOYSA-N  \n",
       "1002157  ZXKXJHAOUFHNAS-FVGYRXGTSA-N  \n",
       "\n",
       "[1002158 rows x 3 columns]"
      ]
     },
     "execution_count": 27,
     "metadata": {},
     "output_type": "execute_result"
    }
   ],
   "source": [
    "all_triplets"
   ]
  },
  {
   "cell_type": "code",
   "execution_count": null,
   "id": "0903579b",
   "metadata": {},
   "outputs": [],
   "source": []
  }
 ],
 "metadata": {
  "kernelspec": {
   "display_name": "Python 3 (ipykernel)",
   "language": "python",
   "name": "python3"
  },
  "language_info": {
   "codemirror_mode": {
    "name": "ipython",
    "version": 3
   },
   "file_extension": ".py",
   "mimetype": "text/x-python",
   "name": "python",
   "nbconvert_exporter": "python",
   "pygments_lexer": "ipython3",
   "version": "3.7.11"
  }
 },
 "nbformat": 4,
 "nbformat_minor": 5
}
